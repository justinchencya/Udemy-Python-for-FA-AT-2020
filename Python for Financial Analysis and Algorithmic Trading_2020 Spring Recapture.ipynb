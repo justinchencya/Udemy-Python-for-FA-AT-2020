{
 "cells": [
  {
   "cell_type": "markdown",
   "metadata": {},
   "source": [
    "# Python for Financial Analysis and Algorithmic Trading"
   ]
  },
  {
   "cell_type": "markdown",
   "metadata": {},
   "source": [
    "## Portfolio Management"
   ]
  },
  {
   "cell_type": "code",
   "execution_count": 1,
   "metadata": {},
   "outputs": [],
   "source": [
    "import pandas as pd\n",
    "import numpy as np\n",
    "import matplotlib.pyplot as plt\n",
    "%matplotlib inline"
   ]
  },
  {
   "cell_type": "markdown",
   "metadata": {},
   "source": [
    "- Construct a portfolio"
   ]
  },
  {
   "cell_type": "code",
   "execution_count": 2,
   "metadata": {},
   "outputs": [
    {
     "name": "stderr",
     "output_type": "stream",
     "text": [
      "/Users/yuangchen/opt/anaconda3/lib/python3.7/site-packages/pandas_datareader/compat/__init__.py:7: FutureWarning: pandas.util.testing is deprecated. Use the functions in the public API at pandas.testing instead.\n",
      "  from pandas.util.testing import assert_frame_equal\n"
     ]
    }
   ],
   "source": [
    "import pandas_datareader as web"
   ]
  },
  {
   "cell_type": "code",
   "execution_count": 3,
   "metadata": {},
   "outputs": [],
   "source": [
    "start_date = '2018-01-01'\n",
    "end_date = '2019-01-01'"
   ]
  },
  {
   "cell_type": "code",
   "execution_count": 4,
   "metadata": {},
   "outputs": [],
   "source": [
    "aapl = web.DataReader('AAPL', 'yahoo', start_date, end_date)\n",
    "tsla = web.DataReader('TSLA', 'yahoo', start_date, end_date)\n",
    "amzn = web.DataReader('AMZN', 'yahoo', start_date, end_date)\n",
    "googl = web.DataReader('GOOGL', 'yahoo', start_date, end_date)"
   ]
  },
  {
   "cell_type": "code",
   "execution_count": 5,
   "metadata": {},
   "outputs": [
    {
     "data": {
      "text/html": [
       "<div>\n",
       "<style scoped>\n",
       "    .dataframe tbody tr th:only-of-type {\n",
       "        vertical-align: middle;\n",
       "    }\n",
       "\n",
       "    .dataframe tbody tr th {\n",
       "        vertical-align: top;\n",
       "    }\n",
       "\n",
       "    .dataframe thead th {\n",
       "        text-align: right;\n",
       "    }\n",
       "</style>\n",
       "<table border=\"1\" class=\"dataframe\">\n",
       "  <thead>\n",
       "    <tr style=\"text-align: right;\">\n",
       "      <th></th>\n",
       "      <th>High</th>\n",
       "      <th>Low</th>\n",
       "      <th>Open</th>\n",
       "      <th>Close</th>\n",
       "      <th>Volume</th>\n",
       "      <th>Adj Close</th>\n",
       "    </tr>\n",
       "    <tr>\n",
       "      <th>Date</th>\n",
       "      <th></th>\n",
       "      <th></th>\n",
       "      <th></th>\n",
       "      <th></th>\n",
       "      <th></th>\n",
       "      <th></th>\n",
       "    </tr>\n",
       "  </thead>\n",
       "  <tbody>\n",
       "    <tr>\n",
       "      <th>2018-01-02</th>\n",
       "      <td>172.300003</td>\n",
       "      <td>169.259995</td>\n",
       "      <td>170.160004</td>\n",
       "      <td>172.259995</td>\n",
       "      <td>25555900.0</td>\n",
       "      <td>166.353714</td>\n",
       "    </tr>\n",
       "    <tr>\n",
       "      <th>2018-01-03</th>\n",
       "      <td>174.550003</td>\n",
       "      <td>171.960007</td>\n",
       "      <td>172.529999</td>\n",
       "      <td>172.229996</td>\n",
       "      <td>29517900.0</td>\n",
       "      <td>166.324722</td>\n",
       "    </tr>\n",
       "    <tr>\n",
       "      <th>2018-01-04</th>\n",
       "      <td>173.470001</td>\n",
       "      <td>172.080002</td>\n",
       "      <td>172.539993</td>\n",
       "      <td>173.029999</td>\n",
       "      <td>22434600.0</td>\n",
       "      <td>167.097290</td>\n",
       "    </tr>\n",
       "    <tr>\n",
       "      <th>2018-01-05</th>\n",
       "      <td>175.369995</td>\n",
       "      <td>173.050003</td>\n",
       "      <td>173.440002</td>\n",
       "      <td>175.000000</td>\n",
       "      <td>23660000.0</td>\n",
       "      <td>168.999741</td>\n",
       "    </tr>\n",
       "    <tr>\n",
       "      <th>2018-01-08</th>\n",
       "      <td>175.610001</td>\n",
       "      <td>173.929993</td>\n",
       "      <td>174.350006</td>\n",
       "      <td>174.350006</td>\n",
       "      <td>20567800.0</td>\n",
       "      <td>168.372040</td>\n",
       "    </tr>\n",
       "  </tbody>\n",
       "</table>\n",
       "</div>"
      ],
      "text/plain": [
       "                  High         Low        Open       Close      Volume  \\\n",
       "Date                                                                     \n",
       "2018-01-02  172.300003  169.259995  170.160004  172.259995  25555900.0   \n",
       "2018-01-03  174.550003  171.960007  172.529999  172.229996  29517900.0   \n",
       "2018-01-04  173.470001  172.080002  172.539993  173.029999  22434600.0   \n",
       "2018-01-05  175.369995  173.050003  173.440002  175.000000  23660000.0   \n",
       "2018-01-08  175.610001  173.929993  174.350006  174.350006  20567800.0   \n",
       "\n",
       "             Adj Close  \n",
       "Date                    \n",
       "2018-01-02  166.353714  \n",
       "2018-01-03  166.324722  \n",
       "2018-01-04  167.097290  \n",
       "2018-01-05  168.999741  \n",
       "2018-01-08  168.372040  "
      ]
     },
     "execution_count": 5,
     "metadata": {},
     "output_type": "execute_result"
    }
   ],
   "source": [
    "aapl.head()"
   ]
  },
  {
   "cell_type": "markdown",
   "metadata": {},
   "source": [
    "- Calculate **Normed Return**"
   ]
  },
  {
   "cell_type": "code",
   "execution_count": 6,
   "metadata": {},
   "outputs": [
    {
     "data": {
      "text/plain": [
       "166.3537139892578"
      ]
     },
     "execution_count": 6,
     "metadata": {},
     "output_type": "execute_result"
    }
   ],
   "source": [
    "aapl.iloc[0]['Adj Close']"
   ]
  },
  {
   "cell_type": "code",
   "execution_count": 7,
   "metadata": {},
   "outputs": [],
   "source": [
    "for stock_df in (aapl, tsla, amzn, googl):\n",
    "    stock_df['Normed Return'] = stock_df['Adj Close'] / stock_df.iloc[0]['Adj Close']"
   ]
  },
  {
   "cell_type": "markdown",
   "metadata": {},
   "source": [
    "- **Allocations**: Let's pretend we have the following allocations for our portfolio:\n",
    "    - AAPL: 30%\n",
    "    - GOOGL: 30%\n",
    "    - AMZN: 25%\n",
    "    - TSLA: 15%"
   ]
  },
  {
   "cell_type": "code",
   "execution_count": 8,
   "metadata": {},
   "outputs": [],
   "source": [
    "for stock_df, allo in zip([aapl, googl, amzn, tsla], [0.3, 0.3, 0.25, 0.15]):\n",
    "    stock_df['Normed Return with Allocation'] = stock_df['Normed Return']*allo"
   ]
  },
  {
   "cell_type": "code",
   "execution_count": 9,
   "metadata": {},
   "outputs": [
    {
     "data": {
      "text/html": [
       "<div>\n",
       "<style scoped>\n",
       "    .dataframe tbody tr th:only-of-type {\n",
       "        vertical-align: middle;\n",
       "    }\n",
       "\n",
       "    .dataframe tbody tr th {\n",
       "        vertical-align: top;\n",
       "    }\n",
       "\n",
       "    .dataframe thead th {\n",
       "        text-align: right;\n",
       "    }\n",
       "</style>\n",
       "<table border=\"1\" class=\"dataframe\">\n",
       "  <thead>\n",
       "    <tr style=\"text-align: right;\">\n",
       "      <th></th>\n",
       "      <th>High</th>\n",
       "      <th>Low</th>\n",
       "      <th>Open</th>\n",
       "      <th>Close</th>\n",
       "      <th>Volume</th>\n",
       "      <th>Adj Close</th>\n",
       "      <th>Normed Return</th>\n",
       "      <th>Normed Return with Allocation</th>\n",
       "    </tr>\n",
       "    <tr>\n",
       "      <th>Date</th>\n",
       "      <th></th>\n",
       "      <th></th>\n",
       "      <th></th>\n",
       "      <th></th>\n",
       "      <th></th>\n",
       "      <th></th>\n",
       "      <th></th>\n",
       "      <th></th>\n",
       "    </tr>\n",
       "  </thead>\n",
       "  <tbody>\n",
       "    <tr>\n",
       "      <th>2018-01-02</th>\n",
       "      <td>172.300003</td>\n",
       "      <td>169.259995</td>\n",
       "      <td>170.160004</td>\n",
       "      <td>172.259995</td>\n",
       "      <td>25555900.0</td>\n",
       "      <td>166.353714</td>\n",
       "      <td>1.000000</td>\n",
       "      <td>0.300000</td>\n",
       "    </tr>\n",
       "    <tr>\n",
       "      <th>2018-01-03</th>\n",
       "      <td>174.550003</td>\n",
       "      <td>171.960007</td>\n",
       "      <td>172.529999</td>\n",
       "      <td>172.229996</td>\n",
       "      <td>29517900.0</td>\n",
       "      <td>166.324722</td>\n",
       "      <td>0.999826</td>\n",
       "      <td>0.299948</td>\n",
       "    </tr>\n",
       "    <tr>\n",
       "      <th>2018-01-04</th>\n",
       "      <td>173.470001</td>\n",
       "      <td>172.080002</td>\n",
       "      <td>172.539993</td>\n",
       "      <td>173.029999</td>\n",
       "      <td>22434600.0</td>\n",
       "      <td>167.097290</td>\n",
       "      <td>1.004470</td>\n",
       "      <td>0.301341</td>\n",
       "    </tr>\n",
       "    <tr>\n",
       "      <th>2018-01-05</th>\n",
       "      <td>175.369995</td>\n",
       "      <td>173.050003</td>\n",
       "      <td>173.440002</td>\n",
       "      <td>175.000000</td>\n",
       "      <td>23660000.0</td>\n",
       "      <td>168.999741</td>\n",
       "      <td>1.015906</td>\n",
       "      <td>0.304772</td>\n",
       "    </tr>\n",
       "    <tr>\n",
       "      <th>2018-01-08</th>\n",
       "      <td>175.610001</td>\n",
       "      <td>173.929993</td>\n",
       "      <td>174.350006</td>\n",
       "      <td>174.350006</td>\n",
       "      <td>20567800.0</td>\n",
       "      <td>168.372040</td>\n",
       "      <td>1.012133</td>\n",
       "      <td>0.303640</td>\n",
       "    </tr>\n",
       "  </tbody>\n",
       "</table>\n",
       "</div>"
      ],
      "text/plain": [
       "                  High         Low        Open       Close      Volume  \\\n",
       "Date                                                                     \n",
       "2018-01-02  172.300003  169.259995  170.160004  172.259995  25555900.0   \n",
       "2018-01-03  174.550003  171.960007  172.529999  172.229996  29517900.0   \n",
       "2018-01-04  173.470001  172.080002  172.539993  173.029999  22434600.0   \n",
       "2018-01-05  175.369995  173.050003  173.440002  175.000000  23660000.0   \n",
       "2018-01-08  175.610001  173.929993  174.350006  174.350006  20567800.0   \n",
       "\n",
       "             Adj Close  Normed Return  Normed Return with Allocation  \n",
       "Date                                                                  \n",
       "2018-01-02  166.353714       1.000000                       0.300000  \n",
       "2018-01-03  166.324722       0.999826                       0.299948  \n",
       "2018-01-04  167.097290       1.004470                       0.301341  \n",
       "2018-01-05  168.999741       1.015906                       0.304772  \n",
       "2018-01-08  168.372040       1.012133                       0.303640  "
      ]
     },
     "execution_count": 9,
     "metadata": {},
     "output_type": "execute_result"
    }
   ],
   "source": [
    "aapl.head()"
   ]
  },
  {
   "cell_type": "markdown",
   "metadata": {},
   "source": [
    "- **Investment**\n",
    "    - Let's assume a total investment of \\\\$1000000."
   ]
  },
  {
   "cell_type": "code",
   "execution_count": 10,
   "metadata": {},
   "outputs": [],
   "source": [
    "for stock_df in (aapl, googl, amzn, tsla):\n",
    "    stock_df['Position Values'] = stock_df['Normed Return with Allocation'] * 1000000"
   ]
  },
  {
   "cell_type": "code",
   "execution_count": 11,
   "metadata": {},
   "outputs": [
    {
     "data": {
      "text/html": [
       "<div>\n",
       "<style scoped>\n",
       "    .dataframe tbody tr th:only-of-type {\n",
       "        vertical-align: middle;\n",
       "    }\n",
       "\n",
       "    .dataframe tbody tr th {\n",
       "        vertical-align: top;\n",
       "    }\n",
       "\n",
       "    .dataframe thead th {\n",
       "        text-align: right;\n",
       "    }\n",
       "</style>\n",
       "<table border=\"1\" class=\"dataframe\">\n",
       "  <thead>\n",
       "    <tr style=\"text-align: right;\">\n",
       "      <th></th>\n",
       "      <th>High</th>\n",
       "      <th>Low</th>\n",
       "      <th>Open</th>\n",
       "      <th>Close</th>\n",
       "      <th>Volume</th>\n",
       "      <th>Adj Close</th>\n",
       "      <th>Normed Return</th>\n",
       "      <th>Normed Return with Allocation</th>\n",
       "      <th>Position Values</th>\n",
       "    </tr>\n",
       "    <tr>\n",
       "      <th>Date</th>\n",
       "      <th></th>\n",
       "      <th></th>\n",
       "      <th></th>\n",
       "      <th></th>\n",
       "      <th></th>\n",
       "      <th></th>\n",
       "      <th></th>\n",
       "      <th></th>\n",
       "      <th></th>\n",
       "    </tr>\n",
       "  </thead>\n",
       "  <tbody>\n",
       "    <tr>\n",
       "      <th>2018-01-02</th>\n",
       "      <td>172.300003</td>\n",
       "      <td>169.259995</td>\n",
       "      <td>170.160004</td>\n",
       "      <td>172.259995</td>\n",
       "      <td>25555900.0</td>\n",
       "      <td>166.353714</td>\n",
       "      <td>1.000000</td>\n",
       "      <td>0.300000</td>\n",
       "      <td>300000.000000</td>\n",
       "    </tr>\n",
       "    <tr>\n",
       "      <th>2018-01-03</th>\n",
       "      <td>174.550003</td>\n",
       "      <td>171.960007</td>\n",
       "      <td>172.529999</td>\n",
       "      <td>172.229996</td>\n",
       "      <td>29517900.0</td>\n",
       "      <td>166.324722</td>\n",
       "      <td>0.999826</td>\n",
       "      <td>0.299948</td>\n",
       "      <td>299947.716768</td>\n",
       "    </tr>\n",
       "    <tr>\n",
       "      <th>2018-01-04</th>\n",
       "      <td>173.470001</td>\n",
       "      <td>172.080002</td>\n",
       "      <td>172.539993</td>\n",
       "      <td>173.029999</td>\n",
       "      <td>22434600.0</td>\n",
       "      <td>167.097290</td>\n",
       "      <td>1.004470</td>\n",
       "      <td>0.301341</td>\n",
       "      <td>301340.954822</td>\n",
       "    </tr>\n",
       "    <tr>\n",
       "      <th>2018-01-05</th>\n",
       "      <td>175.369995</td>\n",
       "      <td>173.050003</td>\n",
       "      <td>173.440002</td>\n",
       "      <td>175.000000</td>\n",
       "      <td>23660000.0</td>\n",
       "      <td>168.999741</td>\n",
       "      <td>1.015906</td>\n",
       "      <td>0.304772</td>\n",
       "      <td>304771.808001</td>\n",
       "    </tr>\n",
       "    <tr>\n",
       "      <th>2018-01-08</th>\n",
       "      <td>175.610001</td>\n",
       "      <td>173.929993</td>\n",
       "      <td>174.350006</td>\n",
       "      <td>174.350006</td>\n",
       "      <td>20567800.0</td>\n",
       "      <td>168.372040</td>\n",
       "      <td>1.012133</td>\n",
       "      <td>0.303640</td>\n",
       "      <td>303639.821001</td>\n",
       "    </tr>\n",
       "  </tbody>\n",
       "</table>\n",
       "</div>"
      ],
      "text/plain": [
       "                  High         Low        Open       Close      Volume  \\\n",
       "Date                                                                     \n",
       "2018-01-02  172.300003  169.259995  170.160004  172.259995  25555900.0   \n",
       "2018-01-03  174.550003  171.960007  172.529999  172.229996  29517900.0   \n",
       "2018-01-04  173.470001  172.080002  172.539993  173.029999  22434600.0   \n",
       "2018-01-05  175.369995  173.050003  173.440002  175.000000  23660000.0   \n",
       "2018-01-08  175.610001  173.929993  174.350006  174.350006  20567800.0   \n",
       "\n",
       "             Adj Close  Normed Return  Normed Return with Allocation  \\\n",
       "Date                                                                   \n",
       "2018-01-02  166.353714       1.000000                       0.300000   \n",
       "2018-01-03  166.324722       0.999826                       0.299948   \n",
       "2018-01-04  167.097290       1.004470                       0.301341   \n",
       "2018-01-05  168.999741       1.015906                       0.304772   \n",
       "2018-01-08  168.372040       1.012133                       0.303640   \n",
       "\n",
       "            Position Values  \n",
       "Date                         \n",
       "2018-01-02    300000.000000  \n",
       "2018-01-03    299947.716768  \n",
       "2018-01-04    301340.954822  \n",
       "2018-01-05    304771.808001  \n",
       "2018-01-08    303639.821001  "
      ]
     },
     "execution_count": 11,
     "metadata": {},
     "output_type": "execute_result"
    }
   ],
   "source": [
    "aapl.head()"
   ]
  },
  {
   "cell_type": "markdown",
   "metadata": {},
   "source": [
    "- Total Portfolio Value"
   ]
  },
  {
   "cell_type": "code",
   "execution_count": 12,
   "metadata": {},
   "outputs": [
    {
     "data": {
      "text/html": [
       "<div>\n",
       "<style scoped>\n",
       "    .dataframe tbody tr th:only-of-type {\n",
       "        vertical-align: middle;\n",
       "    }\n",
       "\n",
       "    .dataframe tbody tr th {\n",
       "        vertical-align: top;\n",
       "    }\n",
       "\n",
       "    .dataframe thead th {\n",
       "        text-align: right;\n",
       "    }\n",
       "</style>\n",
       "<table border=\"1\" class=\"dataframe\">\n",
       "  <thead>\n",
       "    <tr style=\"text-align: right;\">\n",
       "      <th></th>\n",
       "      <th>Position Values</th>\n",
       "      <th>Position Values</th>\n",
       "      <th>Position Values</th>\n",
       "      <th>Position Values</th>\n",
       "    </tr>\n",
       "    <tr>\n",
       "      <th>Date</th>\n",
       "      <th></th>\n",
       "      <th></th>\n",
       "      <th></th>\n",
       "      <th></th>\n",
       "    </tr>\n",
       "  </thead>\n",
       "  <tbody>\n",
       "    <tr>\n",
       "      <th>2018-01-02</th>\n",
       "      <td>300000.000000</td>\n",
       "      <td>300000.000000</td>\n",
       "      <td>250000.000000</td>\n",
       "      <td>150000.000000</td>\n",
       "    </tr>\n",
       "    <tr>\n",
       "      <th>2018-01-03</th>\n",
       "      <td>299947.716768</td>\n",
       "      <td>305118.306555</td>\n",
       "      <td>253193.821179</td>\n",
       "      <td>148465.042839</td>\n",
       "    </tr>\n",
       "    <tr>\n",
       "      <th>2018-01-04</th>\n",
       "      <td>301340.954822</td>\n",
       "      <td>306303.533227</td>\n",
       "      <td>254327.120017</td>\n",
       "      <td>147234.266519</td>\n",
       "    </tr>\n",
       "    <tr>\n",
       "      <th>2018-01-05</th>\n",
       "      <td>304771.808001</td>\n",
       "      <td>310365.188400</td>\n",
       "      <td>258437.692819</td>\n",
       "      <td>148151.493360</td>\n",
       "    </tr>\n",
       "    <tr>\n",
       "      <th>2018-01-08</th>\n",
       "      <td>303639.821001</td>\n",
       "      <td>311460.944687</td>\n",
       "      <td>262165.579952</td>\n",
       "      <td>157431.443988</td>\n",
       "    </tr>\n",
       "  </tbody>\n",
       "</table>\n",
       "</div>"
      ],
      "text/plain": [
       "            Position Values  Position Values  Position Values  Position Values\n",
       "Date                                                                          \n",
       "2018-01-02    300000.000000    300000.000000    250000.000000    150000.000000\n",
       "2018-01-03    299947.716768    305118.306555    253193.821179    148465.042839\n",
       "2018-01-04    301340.954822    306303.533227    254327.120017    147234.266519\n",
       "2018-01-05    304771.808001    310365.188400    258437.692819    148151.493360\n",
       "2018-01-08    303639.821001    311460.944687    262165.579952    157431.443988"
      ]
     },
     "execution_count": 12,
     "metadata": {},
     "output_type": "execute_result"
    }
   ],
   "source": [
    "portfolio_val = pd.concat([aapl['Position Values'], googl['Position Values'], \n",
    "                           amzn['Position Values'], tsla['Position Values']], axis=1)\n",
    "portfolio_val.head()"
   ]
  },
  {
   "cell_type": "code",
   "execution_count": 13,
   "metadata": {},
   "outputs": [
    {
     "data": {
      "text/html": [
       "<div>\n",
       "<style scoped>\n",
       "    .dataframe tbody tr th:only-of-type {\n",
       "        vertical-align: middle;\n",
       "    }\n",
       "\n",
       "    .dataframe tbody tr th {\n",
       "        vertical-align: top;\n",
       "    }\n",
       "\n",
       "    .dataframe thead th {\n",
       "        text-align: right;\n",
       "    }\n",
       "</style>\n",
       "<table border=\"1\" class=\"dataframe\">\n",
       "  <thead>\n",
       "    <tr style=\"text-align: right;\">\n",
       "      <th></th>\n",
       "      <th>AAPL Pos</th>\n",
       "      <th>GOOGL Pos</th>\n",
       "      <th>AMZN Pos</th>\n",
       "      <th>TSLA Pos</th>\n",
       "    </tr>\n",
       "    <tr>\n",
       "      <th>Date</th>\n",
       "      <th></th>\n",
       "      <th></th>\n",
       "      <th></th>\n",
       "      <th></th>\n",
       "    </tr>\n",
       "  </thead>\n",
       "  <tbody>\n",
       "    <tr>\n",
       "      <th>2018-01-02</th>\n",
       "      <td>300000.000000</td>\n",
       "      <td>300000.000000</td>\n",
       "      <td>250000.000000</td>\n",
       "      <td>150000.000000</td>\n",
       "    </tr>\n",
       "    <tr>\n",
       "      <th>2018-01-03</th>\n",
       "      <td>299947.716768</td>\n",
       "      <td>305118.306555</td>\n",
       "      <td>253193.821179</td>\n",
       "      <td>148465.042839</td>\n",
       "    </tr>\n",
       "    <tr>\n",
       "      <th>2018-01-04</th>\n",
       "      <td>301340.954822</td>\n",
       "      <td>306303.533227</td>\n",
       "      <td>254327.120017</td>\n",
       "      <td>147234.266519</td>\n",
       "    </tr>\n",
       "    <tr>\n",
       "      <th>2018-01-05</th>\n",
       "      <td>304771.808001</td>\n",
       "      <td>310365.188400</td>\n",
       "      <td>258437.692819</td>\n",
       "      <td>148151.493360</td>\n",
       "    </tr>\n",
       "    <tr>\n",
       "      <th>2018-01-08</th>\n",
       "      <td>303639.821001</td>\n",
       "      <td>311460.944687</td>\n",
       "      <td>262165.579952</td>\n",
       "      <td>157431.443988</td>\n",
       "    </tr>\n",
       "  </tbody>\n",
       "</table>\n",
       "</div>"
      ],
      "text/plain": [
       "                 AAPL Pos      GOOGL Pos       AMZN Pos       TSLA Pos\n",
       "Date                                                                  \n",
       "2018-01-02  300000.000000  300000.000000  250000.000000  150000.000000\n",
       "2018-01-03  299947.716768  305118.306555  253193.821179  148465.042839\n",
       "2018-01-04  301340.954822  306303.533227  254327.120017  147234.266519\n",
       "2018-01-05  304771.808001  310365.188400  258437.692819  148151.493360\n",
       "2018-01-08  303639.821001  311460.944687  262165.579952  157431.443988"
      ]
     },
     "execution_count": 13,
     "metadata": {},
     "output_type": "execute_result"
    }
   ],
   "source": [
    "portfolio_val.columns = ['AAPL Pos', 'GOOGL Pos', 'AMZN Pos', 'TSLA Pos']\n",
    "portfolio_val.head()"
   ]
  },
  {
   "cell_type": "code",
   "execution_count": 14,
   "metadata": {},
   "outputs": [],
   "source": [
    "portfolio_val['Total Value'] = portfolio_val.sum(axis=1)"
   ]
  },
  {
   "cell_type": "code",
   "execution_count": 15,
   "metadata": {},
   "outputs": [
    {
     "data": {
      "text/plain": [
       "<matplotlib.axes._subplots.AxesSubplot at 0x7fea9b5579d0>"
      ]
     },
     "execution_count": 15,
     "metadata": {},
     "output_type": "execute_result"
    },
    {
     "data": {
      "image/png": "[encoded data removed]",
      "text/plain": [
       "<Figure size 432x288 with 1 Axes>"
      ]
     },
     "metadata": {
      "needs_background": "light"
     },
     "output_type": "display_data"
    }
   ],
   "source": [
    "portfolio_val['Total Value'].plot()"
   ]
  },
  {
   "cell_type": "code",
   "execution_count": 17,
   "metadata": {},
   "outputs": [
    {
     "data": {
      "text/plain": [
       "<matplotlib.axes._subplots.AxesSubplot at 0x7fea9cc12150>"
      ]
     },
     "execution_count": 17,
     "metadata": {},
     "output_type": "execute_result"
    },
    {
     "data": {
      "image/png": "[encoded data removed]",
      "text/plain": [
       "<Figure size 432x288 with 1 Axes>"
      ]
     },
     "metadata": {
      "needs_background": "light"
     },
     "output_type": "display_data"
    }
   ],
   "source": [
    "portfolio_val.drop('Total Value', axis=1).plot()"
   ]
  },
  {
   "cell_type": "markdown",
   "metadata": {},
   "source": [
    "- **Portfolio Statistics**"
   ]
  },
  {
   "cell_type": "code",
   "execution_count": 18,
   "metadata": {},
   "outputs": [
    {
     "data": {
      "text/html": [
       "<div>\n",
       "<style scoped>\n",
       "    .dataframe tbody tr th:only-of-type {\n",
       "        vertical-align: middle;\n",
       "    }\n",
       "\n",
       "    .dataframe tbody tr th {\n",
       "        vertical-align: top;\n",
       "    }\n",
       "\n",
       "    .dataframe thead th {\n",
       "        text-align: right;\n",
       "    }\n",
       "</style>\n",
       "<table border=\"1\" class=\"dataframe\">\n",
       "  <thead>\n",
       "    <tr style=\"text-align: right;\">\n",
       "      <th></th>\n",
       "      <th>AAPL Pos</th>\n",
       "      <th>GOOGL Pos</th>\n",
       "      <th>AMZN Pos</th>\n",
       "      <th>TSLA Pos</th>\n",
       "      <th>Total Value</th>\n",
       "      <th>Daily Return</th>\n",
       "    </tr>\n",
       "    <tr>\n",
       "      <th>Date</th>\n",
       "      <th></th>\n",
       "      <th></th>\n",
       "      <th></th>\n",
       "      <th></th>\n",
       "      <th></th>\n",
       "      <th></th>\n",
       "    </tr>\n",
       "  </thead>\n",
       "  <tbody>\n",
       "    <tr>\n",
       "      <th>2018-01-02</th>\n",
       "      <td>300000.000000</td>\n",
       "      <td>300000.000000</td>\n",
       "      <td>250000.000000</td>\n",
       "      <td>150000.000000</td>\n",
       "      <td>1.000000e+06</td>\n",
       "      <td>NaN</td>\n",
       "    </tr>\n",
       "    <tr>\n",
       "      <th>2018-01-03</th>\n",
       "      <td>299947.716768</td>\n",
       "      <td>305118.306555</td>\n",
       "      <td>253193.821179</td>\n",
       "      <td>148465.042839</td>\n",
       "      <td>1.006725e+06</td>\n",
       "      <td>0.006725</td>\n",
       "    </tr>\n",
       "    <tr>\n",
       "      <th>2018-01-04</th>\n",
       "      <td>301340.954822</td>\n",
       "      <td>306303.533227</td>\n",
       "      <td>254327.120017</td>\n",
       "      <td>147234.266519</td>\n",
       "      <td>1.009206e+06</td>\n",
       "      <td>0.002464</td>\n",
       "    </tr>\n",
       "    <tr>\n",
       "      <th>2018-01-05</th>\n",
       "      <td>304771.808001</td>\n",
       "      <td>310365.188400</td>\n",
       "      <td>258437.692819</td>\n",
       "      <td>148151.493360</td>\n",
       "      <td>1.021726e+06</td>\n",
       "      <td>0.012406</td>\n",
       "    </tr>\n",
       "    <tr>\n",
       "      <th>2018-01-08</th>\n",
       "      <td>303639.821001</td>\n",
       "      <td>311460.944687</td>\n",
       "      <td>262165.579952</td>\n",
       "      <td>157431.443988</td>\n",
       "      <td>1.034698e+06</td>\n",
       "      <td>0.012696</td>\n",
       "    </tr>\n",
       "  </tbody>\n",
       "</table>\n",
       "</div>"
      ],
      "text/plain": [
       "                 AAPL Pos      GOOGL Pos       AMZN Pos       TSLA Pos  \\\n",
       "Date                                                                     \n",
       "2018-01-02  300000.000000  300000.000000  250000.000000  150000.000000   \n",
       "2018-01-03  299947.716768  305118.306555  253193.821179  148465.042839   \n",
       "2018-01-04  301340.954822  306303.533227  254327.120017  147234.266519   \n",
       "2018-01-05  304771.808001  310365.188400  258437.692819  148151.493360   \n",
       "2018-01-08  303639.821001  311460.944687  262165.579952  157431.443988   \n",
       "\n",
       "             Total Value  Daily Return  \n",
       "Date                                    \n",
       "2018-01-02  1.000000e+06           NaN  \n",
       "2018-01-03  1.006725e+06      0.006725  \n",
       "2018-01-04  1.009206e+06      0.002464  \n",
       "2018-01-05  1.021726e+06      0.012406  \n",
       "2018-01-08  1.034698e+06      0.012696  "
      ]
     },
     "execution_count": 18,
     "metadata": {},
     "output_type": "execute_result"
    }
   ],
   "source": [
    "portfolio_val['Daily Return'] = portfolio_val['Total Value'].pct_change(1)\n",
    "portfolio_val.head()"
   ]
  },
  {
   "cell_type": "code",
   "execution_count": 19,
   "metadata": {},
   "outputs": [
    {
     "data": {
      "text/html": [
       "<div>\n",
       "<style scoped>\n",
       "    .dataframe tbody tr th:only-of-type {\n",
       "        vertical-align: middle;\n",
       "    }\n",
       "\n",
       "    .dataframe tbody tr th {\n",
       "        vertical-align: top;\n",
       "    }\n",
       "\n",
       "    .dataframe thead th {\n",
       "        text-align: right;\n",
       "    }\n",
       "</style>\n",
       "<table border=\"1\" class=\"dataframe\">\n",
       "  <thead>\n",
       "    <tr style=\"text-align: right;\">\n",
       "      <th></th>\n",
       "      <th>AAPL Pos</th>\n",
       "      <th>GOOGL Pos</th>\n",
       "      <th>AMZN Pos</th>\n",
       "      <th>TSLA Pos</th>\n",
       "      <th>Total Value</th>\n",
       "      <th>Daily Return</th>\n",
       "    </tr>\n",
       "    <tr>\n",
       "      <th>Date</th>\n",
       "      <th></th>\n",
       "      <th></th>\n",
       "      <th></th>\n",
       "      <th></th>\n",
       "      <th></th>\n",
       "      <th></th>\n",
       "    </tr>\n",
       "  </thead>\n",
       "  <tbody>\n",
       "    <tr>\n",
       "      <th>2018-12-24</th>\n",
       "      <td>259551.380520</td>\n",
       "      <td>275249.956323</td>\n",
       "      <td>282579.614532</td>\n",
       "      <td>138235.117980</td>\n",
       "      <td>9.556161e+05</td>\n",
       "      <td>-0.027660</td>\n",
       "    </tr>\n",
       "    <tr>\n",
       "      <th>2018-12-26</th>\n",
       "      <td>277829.350651</td>\n",
       "      <td>292910.990503</td>\n",
       "      <td>309269.899398</td>\n",
       "      <td>152601.939403</td>\n",
       "      <td>1.032612e+06</td>\n",
       "      <td>0.080572</td>\n",
       "    </tr>\n",
       "    <tr>\n",
       "      <th>2018-12-27</th>\n",
       "      <td>276026.294613</td>\n",
       "      <td>294322.657095</td>\n",
       "      <td>307322.899438</td>\n",
       "      <td>147940.913216</td>\n",
       "      <td>1.025613e+06</td>\n",
       "      <td>-0.006778</td>\n",
       "    </tr>\n",
       "    <tr>\n",
       "      <th>2018-12-28</th>\n",
       "      <td>276167.734513</td>\n",
       "      <td>292583.956115</td>\n",
       "      <td>310766.942118</td>\n",
       "      <td>156242.783697</td>\n",
       "      <td>1.035761e+06</td>\n",
       "      <td>0.009895</td>\n",
       "    </tr>\n",
       "    <tr>\n",
       "      <th>2018-12-31</th>\n",
       "      <td>278836.958595</td>\n",
       "      <td>292103.129575</td>\n",
       "      <td>315802.633781</td>\n",
       "      <td>155742.047107</td>\n",
       "      <td>1.042485e+06</td>\n",
       "      <td>0.006491</td>\n",
       "    </tr>\n",
       "  </tbody>\n",
       "</table>\n",
       "</div>"
      ],
      "text/plain": [
       "                 AAPL Pos      GOOGL Pos       AMZN Pos       TSLA Pos  \\\n",
       "Date                                                                     \n",
       "2018-12-24  259551.380520  275249.956323  282579.614532  138235.117980   \n",
       "2018-12-26  277829.350651  292910.990503  309269.899398  152601.939403   \n",
       "2018-12-27  276026.294613  294322.657095  307322.899438  147940.913216   \n",
       "2018-12-28  276167.734513  292583.956115  310766.942118  156242.783697   \n",
       "2018-12-31  278836.958595  292103.129575  315802.633781  155742.047107   \n",
       "\n",
       "             Total Value  Daily Return  \n",
       "Date                                    \n",
       "2018-12-24  9.556161e+05     -0.027660  \n",
       "2018-12-26  1.032612e+06      0.080572  \n",
       "2018-12-27  1.025613e+06     -0.006778  \n",
       "2018-12-28  1.035761e+06      0.009895  \n",
       "2018-12-31  1.042485e+06      0.006491  "
      ]
     },
     "execution_count": 19,
     "metadata": {},
     "output_type": "execute_result"
    }
   ],
   "source": [
    "portfolio_val.tail()"
   ]
  },
  {
   "cell_type": "code",
   "execution_count": 21,
   "metadata": {},
   "outputs": [
    {
     "name": "stdout",
     "output_type": "stream",
     "text": [
      "Portfolio Cumulative Return: 0.0424847690572383\n"
     ]
    }
   ],
   "source": [
    "print(\"Portfolio Cumulative Return: {}\".format(portfolio_val['Total Value'][-1] / portfolio_val['Total Value'][0] - 1))"
   ]
  },
  {
   "cell_type": "code",
   "execution_count": 22,
   "metadata": {},
   "outputs": [
    {
     "name": "stdout",
     "output_type": "stream",
     "text": [
      "Portfolio Average Daily Return: 0.0003200523066843868\n"
     ]
    }
   ],
   "source": [
    "print(\"Portfolio Average Daily Return: {}\".format(portfolio_val['Daily Return'].mean()))"
   ]
  },
  {
   "cell_type": "code",
   "execution_count": 23,
   "metadata": {},
   "outputs": [
    {
     "name": "stdout",
     "output_type": "stream",
     "text": [
      "Portfolio Std Daily Return: 0.01756321890614897\n"
     ]
    }
   ],
   "source": [
    "print(\"Portfolio Std Daily Return: {}\".format(portfolio_val['Daily Return'].std()))"
   ]
  },
  {
   "cell_type": "code",
   "execution_count": 24,
   "metadata": {},
   "outputs": [
    {
     "data": {
      "text/plain": [
       "<matplotlib.axes._subplots.AxesSubplot at 0x7fea9ed43f10>"
      ]
     },
     "execution_count": 24,
     "metadata": {},
     "output_type": "execute_result"
    },
    {
     "data": {
      "image/png": "[encoded data removed]",
      "text/plain": [
       "<Figure size 432x288 with 1 Axes>"
      ]
     },
     "metadata": {
      "needs_background": "light"
     },
     "output_type": "display_data"
    }
   ],
   "source": [
    "portfolio_val['Daily Return'].plot(kind='kde')"
   ]
  },
  {
   "cell_type": "code",
   "execution_count": 29,
   "metadata": {},
   "outputs": [
    {
     "name": "stdout",
     "output_type": "stream",
     "text": [
      "Portfolio reached maximum value on 2018-08-30 00:00:00\n"
     ]
    }
   ],
   "source": [
    "print(\"Portfolio reached maximum value on {}\".format(portfolio_val.index[np.argmax(portfolio_val['Total Value'])]))"
   ]
  },
  {
   "cell_type": "markdown",
   "metadata": {},
   "source": [
    "- Sharpe Ratio\n",
    "    - Sharpe Ratio = $(R_p - R_f)/\\sigma_p$\n",
    "        - Here, assume $R_f \\approx 0$ in the US, and we use the mean of daily returns as $E(R_p)$."
   ]
  },
  {
   "cell_type": "code",
   "execution_count": 30,
   "metadata": {},
   "outputs": [],
   "source": [
    "sharpe_ratio = (portfolio_val['Daily Return'].mean() - 0) / portfolio_val['Daily Return'].std()"
   ]
  },
  {
   "cell_type": "code",
   "execution_count": 31,
   "metadata": {},
   "outputs": [
    {
     "name": "stdout",
     "output_type": "stream",
     "text": [
      "Sharpe Ratio = 0.018222872947984203\n"
     ]
    }
   ],
   "source": [
    "print(\"Sharpe Ratio = {}\".format(sharpe_ratio))"
   ]
  },
  {
   "cell_type": "code",
   "execution_count": 34,
   "metadata": {},
   "outputs": [
    {
     "data": {
      "text/plain": [
       "<matplotlib.axes._subplots.AxesSubplot at 0x7fea9c729d10>"
      ]
     },
     "execution_count": 34,
     "metadata": {},
     "output_type": "execute_result"
    },
    {
     "data": {
      "image/png": "[encoded data removed]",
      "text/plain": [
       "<Figure size 432x288 with 1 Axes>"
      ]
     },
     "metadata": {
      "needs_background": "light"
     },
     "output_type": "display_data"
    }
   ],
   "source": [
    "aapl['Adj Close'].pct_change(1).plot(kind='kde')\n",
    "googl['Adj Close'].pct_change(1).plot(kind='kde')\n",
    "amzn['Adj Close'].pct_change(1).plot(kind='kde')\n",
    "tsla['Adj Close'].pct_change(1).plot(kind='kde')"
   ]
  },
  {
   "cell_type": "markdown",
   "metadata": {},
   "source": [
    "## Portfolio Optimization"
   ]
  },
  {
   "cell_type": "code",
   "execution_count": 1,
   "metadata": {},
   "outputs": [],
   "source": [
    "import numpy as np\n",
    "import pandas as pd\n",
    "import matplotlib.pyplot as plt\n",
    "%matplotlib inline"
   ]
  },
  {
   "cell_type": "code",
   "execution_count": 2,
   "metadata": {},
   "outputs": [
    {
     "name": "stderr",
     "output_type": "stream",
     "text": [
      "/Users/yuangchen/opt/anaconda3/lib/python3.7/site-packages/pandas_datareader/compat/__init__.py:7: FutureWarning: pandas.util.testing is deprecated. Use the functions in the public API at pandas.testing instead.\n",
      "  from pandas.util.testing import assert_frame_equal\n"
     ]
    }
   ],
   "source": [
    "import pandas_datareader as web"
   ]
  },
  {
   "cell_type": "markdown",
   "metadata": {},
   "source": [
    "### Create the portfolio"
   ]
  },
  {
   "cell_type": "code",
   "execution_count": 3,
   "metadata": {},
   "outputs": [],
   "source": [
    "start_date = '2011-01-01'\n",
    "end_date = '2019-01-01'"
   ]
  },
  {
   "cell_type": "code",
   "execution_count": 4,
   "metadata": {},
   "outputs": [],
   "source": [
    "aapl = web.DataReader('AAPL', 'yahoo', start_date, end_date)\n",
    "tsla = web.DataReader('TSLA', 'yahoo', start_date, end_date)\n",
    "amzn = web.DataReader('AMZN', 'yahoo', start_date, end_date)\n",
    "googl = web.DataReader('GOOGL', 'yahoo', start_date, end_date)"
   ]
  },
  {
   "cell_type": "code",
   "execution_count": 5,
   "metadata": {},
   "outputs": [
    {
     "data": {
      "text/html": [
       "<div>\n",
       "<style scoped>\n",
       "    .dataframe tbody tr th:only-of-type {\n",
       "        vertical-align: middle;\n",
       "    }\n",
       "\n",
       "    .dataframe tbody tr th {\n",
       "        vertical-align: top;\n",
       "    }\n",
       "\n",
       "    .dataframe thead th {\n",
       "        text-align: right;\n",
       "    }\n",
       "</style>\n",
       "<table border=\"1\" class=\"dataframe\">\n",
       "  <thead>\n",
       "    <tr style=\"text-align: right;\">\n",
       "      <th></th>\n",
       "      <th>AAPL</th>\n",
       "      <th>GOOGL</th>\n",
       "      <th>AMZN</th>\n",
       "      <th>TSLA</th>\n",
       "    </tr>\n",
       "    <tr>\n",
       "      <th>Date</th>\n",
       "      <th></th>\n",
       "      <th></th>\n",
       "      <th></th>\n",
       "      <th></th>\n",
       "    </tr>\n",
       "  </thead>\n",
       "  <tbody>\n",
       "    <tr>\n",
       "      <th>2011-01-03</th>\n",
       "      <td>40.758278</td>\n",
       "      <td>302.477478</td>\n",
       "      <td>184.220001</td>\n",
       "      <td>26.620001</td>\n",
       "    </tr>\n",
       "    <tr>\n",
       "      <th>2011-01-04</th>\n",
       "      <td>40.970993</td>\n",
       "      <td>301.361359</td>\n",
       "      <td>185.009995</td>\n",
       "      <td>26.670000</td>\n",
       "    </tr>\n",
       "    <tr>\n",
       "      <th>2011-01-05</th>\n",
       "      <td>41.306126</td>\n",
       "      <td>304.839844</td>\n",
       "      <td>187.419998</td>\n",
       "      <td>26.830000</td>\n",
       "    </tr>\n",
       "    <tr>\n",
       "      <th>2011-01-06</th>\n",
       "      <td>41.272743</td>\n",
       "      <td>307.057068</td>\n",
       "      <td>185.860001</td>\n",
       "      <td>27.879999</td>\n",
       "    </tr>\n",
       "    <tr>\n",
       "      <th>2011-01-07</th>\n",
       "      <td>41.568314</td>\n",
       "      <td>308.528534</td>\n",
       "      <td>185.490005</td>\n",
       "      <td>28.240000</td>\n",
       "    </tr>\n",
       "  </tbody>\n",
       "</table>\n",
       "</div>"
      ],
      "text/plain": [
       "                 AAPL       GOOGL        AMZN       TSLA\n",
       "Date                                                    \n",
       "2011-01-03  40.758278  302.477478  184.220001  26.620001\n",
       "2011-01-04  40.970993  301.361359  185.009995  26.670000\n",
       "2011-01-05  41.306126  304.839844  187.419998  26.830000\n",
       "2011-01-06  41.272743  307.057068  185.860001  27.879999\n",
       "2011-01-07  41.568314  308.528534  185.490005  28.240000"
      ]
     },
     "execution_count": 5,
     "metadata": {},
     "output_type": "execute_result"
    }
   ],
   "source": [
    "stocks = pd.concat([aapl['Adj Close'], googl['Adj Close'], amzn['Adj Close'], tsla['Adj Close']], axis=1)\n",
    "stocks.columns = ['AAPL', 'GOOGL', 'AMZN', 'TSLA']\n",
    "stocks.head()"
   ]
  },
  {
   "cell_type": "code",
   "execution_count": 6,
   "metadata": {},
   "outputs": [
    {
     "data": {
      "text/plain": [
       "AAPL     0.000793\n",
       "GOOGL    0.000729\n",
       "AMZN     0.001241\n",
       "TSLA     0.001749\n",
       "dtype: float64"
      ]
     },
     "execution_count": 6,
     "metadata": {},
     "output_type": "execute_result"
    }
   ],
   "source": [
    "mean_daily_return = stocks.pct_change(1).mean()\n",
    "mean_daily_return"
   ]
  },
  {
   "cell_type": "markdown",
   "metadata": {},
   "source": [
    "### Normed Returns"
   ]
  },
  {
   "cell_type": "code",
   "execution_count": 7,
   "metadata": {},
   "outputs": [
    {
     "data": {
      "text/html": [
       "<div>\n",
       "<style scoped>\n",
       "    .dataframe tbody tr th:only-of-type {\n",
       "        vertical-align: middle;\n",
       "    }\n",
       "\n",
       "    .dataframe tbody tr th {\n",
       "        vertical-align: top;\n",
       "    }\n",
       "\n",
       "    .dataframe thead th {\n",
       "        text-align: right;\n",
       "    }\n",
       "</style>\n",
       "<table border=\"1\" class=\"dataframe\">\n",
       "  <thead>\n",
       "    <tr style=\"text-align: right;\">\n",
       "      <th></th>\n",
       "      <th>AAPL</th>\n",
       "      <th>GOOGL</th>\n",
       "      <th>AMZN</th>\n",
       "      <th>TSLA</th>\n",
       "    </tr>\n",
       "    <tr>\n",
       "      <th>Date</th>\n",
       "      <th></th>\n",
       "      <th></th>\n",
       "      <th></th>\n",
       "      <th></th>\n",
       "    </tr>\n",
       "  </thead>\n",
       "  <tbody>\n",
       "    <tr>\n",
       "      <th>2011-01-03</th>\n",
       "      <td>1.000000</td>\n",
       "      <td>1.000000</td>\n",
       "      <td>1.000000</td>\n",
       "      <td>1.000000</td>\n",
       "    </tr>\n",
       "    <tr>\n",
       "      <th>2011-01-04</th>\n",
       "      <td>1.005219</td>\n",
       "      <td>0.996310</td>\n",
       "      <td>1.004288</td>\n",
       "      <td>1.001878</td>\n",
       "    </tr>\n",
       "    <tr>\n",
       "      <th>2011-01-05</th>\n",
       "      <td>1.013441</td>\n",
       "      <td>1.007810</td>\n",
       "      <td>1.017371</td>\n",
       "      <td>1.007889</td>\n",
       "    </tr>\n",
       "    <tr>\n",
       "      <th>2011-01-06</th>\n",
       "      <td>1.012622</td>\n",
       "      <td>1.015140</td>\n",
       "      <td>1.008902</td>\n",
       "      <td>1.047333</td>\n",
       "    </tr>\n",
       "    <tr>\n",
       "      <th>2011-01-07</th>\n",
       "      <td>1.019874</td>\n",
       "      <td>1.020005</td>\n",
       "      <td>1.006894</td>\n",
       "      <td>1.060856</td>\n",
       "    </tr>\n",
       "  </tbody>\n",
       "</table>\n",
       "</div>"
      ],
      "text/plain": [
       "                AAPL     GOOGL      AMZN      TSLA\n",
       "Date                                              \n",
       "2011-01-03  1.000000  1.000000  1.000000  1.000000\n",
       "2011-01-04  1.005219  0.996310  1.004288  1.001878\n",
       "2011-01-05  1.013441  1.007810  1.017371  1.007889\n",
       "2011-01-06  1.012622  1.015140  1.008902  1.047333\n",
       "2011-01-07  1.019874  1.020005  1.006894  1.060856"
      ]
     },
     "execution_count": 7,
     "metadata": {},
     "output_type": "execute_result"
    }
   ],
   "source": [
    "stocks_normed_returns = stocks/stocks.iloc[0]\n",
    "stocks_normed_returns.head()"
   ]
  },
  {
   "cell_type": "code",
   "execution_count": 8,
   "metadata": {},
   "outputs": [
    {
     "data": {
      "text/plain": [
       "<matplotlib.axes._subplots.AxesSubplot at 0x7fbe175e7450>"
      ]
     },
     "execution_count": 8,
     "metadata": {},
     "output_type": "execute_result"
    },
    {
     "data": {
      "image/png": "[encoded data removed]",
      "text/plain": [
       "<Figure size 432x288 with 1 Axes>"
      ]
     },
     "metadata": {
      "needs_background": "light"
     },
     "output_type": "display_data"
    }
   ],
   "source": [
    "stocks_normed_returns.plot()"
   ]
  },
  {
   "cell_type": "markdown",
   "metadata": {},
   "source": [
    "### Daily Returns and Log Returns"
   ]
  },
  {
   "cell_type": "code",
   "execution_count": 9,
   "metadata": {},
   "outputs": [
    {
     "data": {
      "text/html": [
       "<div>\n",
       "<style scoped>\n",
       "    .dataframe tbody tr th:only-of-type {\n",
       "        vertical-align: middle;\n",
       "    }\n",
       "\n",
       "    .dataframe tbody tr th {\n",
       "        vertical-align: top;\n",
       "    }\n",
       "\n",
       "    .dataframe thead th {\n",
       "        text-align: right;\n",
       "    }\n",
       "</style>\n",
       "<table border=\"1\" class=\"dataframe\">\n",
       "  <thead>\n",
       "    <tr style=\"text-align: right;\">\n",
       "      <th></th>\n",
       "      <th>AAPL</th>\n",
       "      <th>GOOGL</th>\n",
       "      <th>AMZN</th>\n",
       "      <th>TSLA</th>\n",
       "    </tr>\n",
       "    <tr>\n",
       "      <th>Date</th>\n",
       "      <th></th>\n",
       "      <th></th>\n",
       "      <th></th>\n",
       "      <th></th>\n",
       "    </tr>\n",
       "  </thead>\n",
       "  <tbody>\n",
       "    <tr>\n",
       "      <th>2011-01-03</th>\n",
       "      <td>NaN</td>\n",
       "      <td>NaN</td>\n",
       "      <td>NaN</td>\n",
       "      <td>NaN</td>\n",
       "    </tr>\n",
       "    <tr>\n",
       "      <th>2011-01-04</th>\n",
       "      <td>0.005219</td>\n",
       "      <td>-0.003690</td>\n",
       "      <td>0.004288</td>\n",
       "      <td>0.001878</td>\n",
       "    </tr>\n",
       "    <tr>\n",
       "      <th>2011-01-05</th>\n",
       "      <td>0.008180</td>\n",
       "      <td>0.011543</td>\n",
       "      <td>0.013026</td>\n",
       "      <td>0.005999</td>\n",
       "    </tr>\n",
       "    <tr>\n",
       "      <th>2011-01-06</th>\n",
       "      <td>-0.000808</td>\n",
       "      <td>0.007273</td>\n",
       "      <td>-0.008324</td>\n",
       "      <td>0.039135</td>\n",
       "    </tr>\n",
       "    <tr>\n",
       "      <th>2011-01-07</th>\n",
       "      <td>0.007161</td>\n",
       "      <td>0.004792</td>\n",
       "      <td>-0.001991</td>\n",
       "      <td>0.012913</td>\n",
       "    </tr>\n",
       "  </tbody>\n",
       "</table>\n",
       "</div>"
      ],
      "text/plain": [
       "                AAPL     GOOGL      AMZN      TSLA\n",
       "Date                                              \n",
       "2011-01-03       NaN       NaN       NaN       NaN\n",
       "2011-01-04  0.005219 -0.003690  0.004288  0.001878\n",
       "2011-01-05  0.008180  0.011543  0.013026  0.005999\n",
       "2011-01-06 -0.000808  0.007273 -0.008324  0.039135\n",
       "2011-01-07  0.007161  0.004792 -0.001991  0.012913"
      ]
     },
     "execution_count": 9,
     "metadata": {},
     "output_type": "execute_result"
    }
   ],
   "source": [
    "stocks_daily_returns = stocks.pct_change(1)\n",
    "stocks_daily_returns.head()"
   ]
  },
  {
   "cell_type": "code",
   "execution_count": 10,
   "metadata": {},
   "outputs": [
    {
     "data": {
      "text/html": [
       "<div>\n",
       "<style scoped>\n",
       "    .dataframe tbody tr th:only-of-type {\n",
       "        vertical-align: middle;\n",
       "    }\n",
       "\n",
       "    .dataframe tbody tr th {\n",
       "        vertical-align: top;\n",
       "    }\n",
       "\n",
       "    .dataframe thead th {\n",
       "        text-align: right;\n",
       "    }\n",
       "</style>\n",
       "<table border=\"1\" class=\"dataframe\">\n",
       "  <thead>\n",
       "    <tr style=\"text-align: right;\">\n",
       "      <th></th>\n",
       "      <th>AAPL</th>\n",
       "      <th>GOOGL</th>\n",
       "      <th>AMZN</th>\n",
       "      <th>TSLA</th>\n",
       "    </tr>\n",
       "    <tr>\n",
       "      <th>Date</th>\n",
       "      <th></th>\n",
       "      <th></th>\n",
       "      <th></th>\n",
       "      <th></th>\n",
       "    </tr>\n",
       "  </thead>\n",
       "  <tbody>\n",
       "    <tr>\n",
       "      <th>2011-01-03</th>\n",
       "      <td>NaN</td>\n",
       "      <td>NaN</td>\n",
       "      <td>NaN</td>\n",
       "      <td>NaN</td>\n",
       "    </tr>\n",
       "    <tr>\n",
       "      <th>2011-01-04</th>\n",
       "      <td>1.005219</td>\n",
       "      <td>0.996310</td>\n",
       "      <td>1.004288</td>\n",
       "      <td>1.001878</td>\n",
       "    </tr>\n",
       "    <tr>\n",
       "      <th>2011-01-05</th>\n",
       "      <td>1.008180</td>\n",
       "      <td>1.011543</td>\n",
       "      <td>1.013026</td>\n",
       "      <td>1.005999</td>\n",
       "    </tr>\n",
       "    <tr>\n",
       "      <th>2011-01-06</th>\n",
       "      <td>0.999192</td>\n",
       "      <td>1.007273</td>\n",
       "      <td>0.991676</td>\n",
       "      <td>1.039135</td>\n",
       "    </tr>\n",
       "    <tr>\n",
       "      <th>2011-01-07</th>\n",
       "      <td>1.007161</td>\n",
       "      <td>1.004792</td>\n",
       "      <td>0.998009</td>\n",
       "      <td>1.012913</td>\n",
       "    </tr>\n",
       "    <tr>\n",
       "      <th>...</th>\n",
       "      <td>...</td>\n",
       "      <td>...</td>\n",
       "      <td>...</td>\n",
       "      <td>...</td>\n",
       "    </tr>\n",
       "    <tr>\n",
       "      <th>2018-12-24</th>\n",
       "      <td>NaN</td>\n",
       "      <td>NaN</td>\n",
       "      <td>NaN</td>\n",
       "      <td>NaN</td>\n",
       "    </tr>\n",
       "    <tr>\n",
       "      <th>2018-12-26</th>\n",
       "      <td>NaN</td>\n",
       "      <td>NaN</td>\n",
       "      <td>NaN</td>\n",
       "      <td>NaN</td>\n",
       "    </tr>\n",
       "    <tr>\n",
       "      <th>2018-12-27</th>\n",
       "      <td>NaN</td>\n",
       "      <td>NaN</td>\n",
       "      <td>NaN</td>\n",
       "      <td>NaN</td>\n",
       "    </tr>\n",
       "    <tr>\n",
       "      <th>2018-12-28</th>\n",
       "      <td>NaN</td>\n",
       "      <td>NaN</td>\n",
       "      <td>NaN</td>\n",
       "      <td>NaN</td>\n",
       "    </tr>\n",
       "    <tr>\n",
       "      <th>2018-12-31</th>\n",
       "      <td>NaN</td>\n",
       "      <td>NaN</td>\n",
       "      <td>NaN</td>\n",
       "      <td>NaN</td>\n",
       "    </tr>\n",
       "  </tbody>\n",
       "</table>\n",
       "<p>2012 rows × 4 columns</p>\n",
       "</div>"
      ],
      "text/plain": [
       "                AAPL     GOOGL      AMZN      TSLA\n",
       "Date                                              \n",
       "2011-01-03       NaN       NaN       NaN       NaN\n",
       "2011-01-04  1.005219  0.996310  1.004288  1.001878\n",
       "2011-01-05  1.008180  1.011543  1.013026  1.005999\n",
       "2011-01-06  0.999192  1.007273  0.991676  1.039135\n",
       "2011-01-07  1.007161  1.004792  0.998009  1.012913\n",
       "...              ...       ...       ...       ...\n",
       "2018-12-24       NaN       NaN       NaN       NaN\n",
       "2018-12-26       NaN       NaN       NaN       NaN\n",
       "2018-12-27       NaN       NaN       NaN       NaN\n",
       "2018-12-28       NaN       NaN       NaN       NaN\n",
       "2018-12-31       NaN       NaN       NaN       NaN\n",
       "\n",
       "[2012 rows x 4 columns]"
      ]
     },
     "execution_count": 10,
     "metadata": {},
     "output_type": "execute_result"
    }
   ],
   "source": [
    "stocks/stocks.shift(1).head()"
   ]
  },
  {
   "cell_type": "code",
   "execution_count": 11,
   "metadata": {},
   "outputs": [
    {
     "data": {
      "text/html": [
       "<div>\n",
       "<style scoped>\n",
       "    .dataframe tbody tr th:only-of-type {\n",
       "        vertical-align: middle;\n",
       "    }\n",
       "\n",
       "    .dataframe tbody tr th {\n",
       "        vertical-align: top;\n",
       "    }\n",
       "\n",
       "    .dataframe thead th {\n",
       "        text-align: right;\n",
       "    }\n",
       "</style>\n",
       "<table border=\"1\" class=\"dataframe\">\n",
       "  <thead>\n",
       "    <tr style=\"text-align: right;\">\n",
       "      <th></th>\n",
       "      <th>AAPL</th>\n",
       "      <th>GOOGL</th>\n",
       "      <th>AMZN</th>\n",
       "      <th>TSLA</th>\n",
       "    </tr>\n",
       "    <tr>\n",
       "      <th>Date</th>\n",
       "      <th></th>\n",
       "      <th></th>\n",
       "      <th></th>\n",
       "      <th></th>\n",
       "    </tr>\n",
       "  </thead>\n",
       "  <tbody>\n",
       "    <tr>\n",
       "      <th>2011-01-03</th>\n",
       "      <td>NaN</td>\n",
       "      <td>NaN</td>\n",
       "      <td>NaN</td>\n",
       "      <td>NaN</td>\n",
       "    </tr>\n",
       "    <tr>\n",
       "      <th>2011-01-04</th>\n",
       "      <td>0.005205</td>\n",
       "      <td>-0.003697</td>\n",
       "      <td>0.004279</td>\n",
       "      <td>0.001876</td>\n",
       "    </tr>\n",
       "    <tr>\n",
       "      <th>2011-01-05</th>\n",
       "      <td>0.008146</td>\n",
       "      <td>0.011476</td>\n",
       "      <td>0.012942</td>\n",
       "      <td>0.005981</td>\n",
       "    </tr>\n",
       "    <tr>\n",
       "      <th>2011-01-06</th>\n",
       "      <td>-0.000808</td>\n",
       "      <td>0.007247</td>\n",
       "      <td>-0.008358</td>\n",
       "      <td>0.038389</td>\n",
       "    </tr>\n",
       "    <tr>\n",
       "      <th>2011-01-07</th>\n",
       "      <td>0.007136</td>\n",
       "      <td>0.004781</td>\n",
       "      <td>-0.001993</td>\n",
       "      <td>0.012830</td>\n",
       "    </tr>\n",
       "  </tbody>\n",
       "</table>\n",
       "</div>"
      ],
      "text/plain": [
       "                AAPL     GOOGL      AMZN      TSLA\n",
       "Date                                              \n",
       "2011-01-03       NaN       NaN       NaN       NaN\n",
       "2011-01-04  0.005205 -0.003697  0.004279  0.001876\n",
       "2011-01-05  0.008146  0.011476  0.012942  0.005981\n",
       "2011-01-06 -0.000808  0.007247 -0.008358  0.038389\n",
       "2011-01-07  0.007136  0.004781 -0.001993  0.012830"
      ]
     },
     "execution_count": 11,
     "metadata": {},
     "output_type": "execute_result"
    }
   ],
   "source": [
    "stocks_log_returns = np.log(stocks/stocks.shift(1))\n",
    "stocks_log_returns.head()"
   ]
  },
  {
   "cell_type": "code",
   "execution_count": 12,
   "metadata": {},
   "outputs": [
    {
     "data": {
      "text/plain": [
       "array([[<matplotlib.axes._subplots.AxesSubplot object at 0x7fbe11c9c090>,\n",
       "        <matplotlib.axes._subplots.AxesSubplot object at 0x7fbe17e74f90>],\n",
       "       [<matplotlib.axes._subplots.AxesSubplot object at 0x7fbe17dce850>,\n",
       "        <matplotlib.axes._subplots.AxesSubplot object at 0x7fbe17d14bd0>]],\n",
       "      dtype=object)"
      ]
     },
     "execution_count": 12,
     "metadata": {},
     "output_type": "execute_result"
    },
    {
     "data": {
      "image/png": "[encoded data removed]",
      "text/plain": [
       "<Figure size 864x432 with 4 Axes>"
      ]
     },
     "metadata": {
      "needs_background": "light"
     },
     "output_type": "display_data"
    }
   ],
   "source": [
    "stocks_log_returns.hist(bins=100, figsize=(12,6))"
   ]
  },
  {
   "cell_type": "code",
   "execution_count": 13,
   "metadata": {},
   "outputs": [
    {
     "data": {
      "text/html": [
       "<div>\n",
       "<style scoped>\n",
       "    .dataframe tbody tr th:only-of-type {\n",
       "        vertical-align: middle;\n",
       "    }\n",
       "\n",
       "    .dataframe tbody tr th {\n",
       "        vertical-align: top;\n",
       "    }\n",
       "\n",
       "    .dataframe thead th {\n",
       "        text-align: right;\n",
       "    }\n",
       "</style>\n",
       "<table border=\"1\" class=\"dataframe\">\n",
       "  <thead>\n",
       "    <tr style=\"text-align: right;\">\n",
       "      <th></th>\n",
       "      <th>count</th>\n",
       "      <th>mean</th>\n",
       "      <th>std</th>\n",
       "      <th>min</th>\n",
       "      <th>25%</th>\n",
       "      <th>50%</th>\n",
       "      <th>75%</th>\n",
       "      <th>max</th>\n",
       "    </tr>\n",
       "  </thead>\n",
       "  <tbody>\n",
       "    <tr>\n",
       "      <th>AAPL</th>\n",
       "      <td>2011.0</td>\n",
       "      <td>0.000663</td>\n",
       "      <td>0.016117</td>\n",
       "      <td>-0.131884</td>\n",
       "      <td>-0.007009</td>\n",
       "      <td>0.000547</td>\n",
       "      <td>0.009388</td>\n",
       "      <td>0.085022</td>\n",
       "    </tr>\n",
       "    <tr>\n",
       "      <th>GOOGL</th>\n",
       "      <td>2011.0</td>\n",
       "      <td>0.000616</td>\n",
       "      <td>0.014991</td>\n",
       "      <td>-0.087493</td>\n",
       "      <td>-0.006401</td>\n",
       "      <td>0.000481</td>\n",
       "      <td>0.008367</td>\n",
       "      <td>0.150645</td>\n",
       "    </tr>\n",
       "    <tr>\n",
       "      <th>AMZN</th>\n",
       "      <td>2011.0</td>\n",
       "      <td>0.001043</td>\n",
       "      <td>0.019850</td>\n",
       "      <td>-0.135325</td>\n",
       "      <td>-0.008223</td>\n",
       "      <td>0.000966</td>\n",
       "      <td>0.011557</td>\n",
       "      <td>0.146225</td>\n",
       "    </tr>\n",
       "    <tr>\n",
       "      <th>TSLA</th>\n",
       "      <td>2011.0</td>\n",
       "      <td>0.001256</td>\n",
       "      <td>0.031315</td>\n",
       "      <td>-0.214772</td>\n",
       "      <td>-0.014433</td>\n",
       "      <td>0.000604</td>\n",
       "      <td>0.017325</td>\n",
       "      <td>0.218292</td>\n",
       "    </tr>\n",
       "  </tbody>\n",
       "</table>\n",
       "</div>"
      ],
      "text/plain": [
       "        count      mean       std       min       25%       50%       75%  \\\n",
       "AAPL   2011.0  0.000663  0.016117 -0.131884 -0.007009  0.000547  0.009388   \n",
       "GOOGL  2011.0  0.000616  0.014991 -0.087493 -0.006401  0.000481  0.008367   \n",
       "AMZN   2011.0  0.001043  0.019850 -0.135325 -0.008223  0.000966  0.011557   \n",
       "TSLA   2011.0  0.001256  0.031315 -0.214772 -0.014433  0.000604  0.017325   \n",
       "\n",
       "            max  \n",
       "AAPL   0.085022  \n",
       "GOOGL  0.150645  \n",
       "AMZN   0.146225  \n",
       "TSLA   0.218292  "
      ]
     },
     "execution_count": 13,
     "metadata": {},
     "output_type": "execute_result"
    }
   ],
   "source": [
    "stocks_log_returns.describe().transpose()"
   ]
  },
  {
   "cell_type": "markdown",
   "metadata": {},
   "source": [
    "### A Single Run of Random Allocation"
   ]
  },
  {
   "cell_type": "code",
   "execution_count": 14,
   "metadata": {},
   "outputs": [],
   "source": [
    "np.random.seed(1)"
   ]
  },
  {
   "cell_type": "code",
   "execution_count": 15,
   "metadata": {},
   "outputs": [
    {
     "data": {
      "text/plain": [
       "array([2.89640161e-01, 5.00297106e-01, 7.94383512e-05, 2.09983296e-01])"
      ]
     },
     "execution_count": 15,
     "metadata": {},
     "output_type": "execute_result"
    }
   ],
   "source": [
    "weights = np.random.rand(4)\n",
    "weights = weights / np.sum(weights)\n",
    "weights"
   ]
  },
  {
   "cell_type": "code",
   "execution_count": 16,
   "metadata": {},
   "outputs": [
    {
     "data": {
      "text/plain": [
       "Date\n",
       "2011-01-03    0.000000\n",
       "2011-01-04    0.000060\n",
       "2011-01-05    0.009405\n",
       "2011-01-06    0.011622\n",
       "2011-01-07    0.007183\n",
       "dtype: float64"
      ]
     },
     "execution_count": 16,
     "metadata": {},
     "output_type": "execute_result"
    }
   ],
   "source": [
    "port_daily_returns = np.sum(stocks_daily_returns*weights, axis=1)\n",
    "port_daily_returns.head()"
   ]
  },
  {
   "cell_type": "markdown",
   "metadata": {},
   "source": [
    "- The **Arithmetic Mean Return** of portfolio: $\\sum_{t=1}^{n}\\frac{R_t}{n}$"
   ]
  },
  {
   "cell_type": "code",
   "execution_count": 17,
   "metadata": {},
   "outputs": [
    {
     "data": {
      "text/plain": [
       "0.0009615523015038549"
      ]
     },
     "execution_count": 17,
     "metadata": {},
     "output_type": "execute_result"
    }
   ],
   "source": [
    "port_arith_return = np.mean(port_daily_returns)\n",
    "port_arith_return"
   ]
  },
  {
   "cell_type": "markdown",
   "metadata": {},
   "source": [
    "- The **Geometric Mean Return** of portfolio: $(\\prod_{t=1}^{n}(HPR_t+1))^{\\frac{1}{n}} - 1$"
   ]
  },
  {
   "cell_type": "code",
   "execution_count": 18,
   "metadata": {},
   "outputs": [
    {
     "data": {
      "text/plain": [
       "0.0008629191108910916"
      ]
     },
     "execution_count": 18,
     "metadata": {},
     "output_type": "execute_result"
    }
   ],
   "source": [
    "port_geo_return = np.prod(1+port_daily_returns)**(1/len(port_daily_returns))-1\n",
    "port_geo_return"
   ]
  },
  {
   "cell_type": "markdown",
   "metadata": {},
   "source": [
    "- The **Sample Variance** of portfolio (of n stocks): $\\sigma^{2} = W \\Sigma W$\n",
    "    - $W$ is the $n \\times 1$ vector of weights\n",
    "    - $\\Sigma$ is the $n \\times n$ covariance matrix"
   ]
  },
  {
   "cell_type": "code",
   "execution_count": 19,
   "metadata": {},
   "outputs": [
    {
     "data": {
      "text/html": [
       "<div>\n",
       "<style scoped>\n",
       "    .dataframe tbody tr th:only-of-type {\n",
       "        vertical-align: middle;\n",
       "    }\n",
       "\n",
       "    .dataframe tbody tr th {\n",
       "        vertical-align: top;\n",
       "    }\n",
       "\n",
       "    .dataframe thead th {\n",
       "        text-align: right;\n",
       "    }\n",
       "</style>\n",
       "<table border=\"1\" class=\"dataframe\">\n",
       "  <thead>\n",
       "    <tr style=\"text-align: right;\">\n",
       "      <th></th>\n",
       "      <th>AAPL</th>\n",
       "      <th>GOOGL</th>\n",
       "      <th>AMZN</th>\n",
       "      <th>TSLA</th>\n",
       "    </tr>\n",
       "  </thead>\n",
       "  <tbody>\n",
       "    <tr>\n",
       "      <th>AAPL</th>\n",
       "      <td>0.000259</td>\n",
       "      <td>0.000105</td>\n",
       "      <td>0.000117</td>\n",
       "      <td>0.000128</td>\n",
       "    </tr>\n",
       "    <tr>\n",
       "      <th>GOOGL</th>\n",
       "      <td>0.000105</td>\n",
       "      <td>0.000228</td>\n",
       "      <td>0.000165</td>\n",
       "      <td>0.000138</td>\n",
       "    </tr>\n",
       "    <tr>\n",
       "      <th>AMZN</th>\n",
       "      <td>0.000117</td>\n",
       "      <td>0.000165</td>\n",
       "      <td>0.000397</td>\n",
       "      <td>0.000187</td>\n",
       "    </tr>\n",
       "    <tr>\n",
       "      <th>TSLA</th>\n",
       "      <td>0.000128</td>\n",
       "      <td>0.000138</td>\n",
       "      <td>0.000187</td>\n",
       "      <td>0.000997</td>\n",
       "    </tr>\n",
       "  </tbody>\n",
       "</table>\n",
       "</div>"
      ],
      "text/plain": [
       "           AAPL     GOOGL      AMZN      TSLA\n",
       "AAPL   0.000259  0.000105  0.000117  0.000128\n",
       "GOOGL  0.000105  0.000228  0.000165  0.000138\n",
       "AMZN   0.000117  0.000165  0.000397  0.000187\n",
       "TSLA   0.000128  0.000138  0.000187  0.000997"
      ]
     },
     "execution_count": 19,
     "metadata": {},
     "output_type": "execute_result"
    }
   ],
   "source": [
    "cov_mat = stocks_daily_returns.cov()\n",
    "cov_mat"
   ]
  },
  {
   "cell_type": "code",
   "execution_count": 20,
   "metadata": {},
   "outputs": [
    {
     "data": {
      "text/plain": [
       "0.00019780538829024106"
      ]
     },
     "execution_count": 20,
     "metadata": {},
     "output_type": "execute_result"
    }
   ],
   "source": [
    "port_var = np.dot(weights.T, np.dot(cov_mat, weights))\n",
    "port_var"
   ]
  },
  {
   "cell_type": "code",
   "execution_count": 21,
   "metadata": {},
   "outputs": [
    {
     "data": {
      "text/plain": [
       "0.014064330353423908"
      ]
     },
     "execution_count": 21,
     "metadata": {},
     "output_type": "execute_result"
    }
   ],
   "source": [
    "port_std = np.sqrt(port_var)\n",
    "port_std"
   ]
  },
  {
   "cell_type": "code",
   "execution_count": 22,
   "metadata": {},
   "outputs": [
    {
     "name": "stdout",
     "output_type": "stream",
     "text": [
      "Portfolio Sharpe Ratio = 0.0683681538573764\n"
     ]
    }
   ],
   "source": [
    "port_sharpe = (port_arith_return - 0)/port_std\n",
    "print('Portfolio Sharpe Ratio = {}'.format(port_sharpe))"
   ]
  },
  {
   "cell_type": "markdown",
   "metadata": {},
   "source": [
    "### Simulating Thousands of Possible Allocations"
   ]
  },
  {
   "cell_type": "code",
   "execution_count": 34,
   "metadata": {},
   "outputs": [],
   "source": [
    "np.random.seed(1)"
   ]
  },
  {
   "cell_type": "code",
   "execution_count": 35,
   "metadata": {},
   "outputs": [],
   "source": [
    "n_simulation = 15000\n",
    "all_weights = np.zeros((n_simulation, len(stocks_daily_returns.columns)))\n",
    "return_arr = np.zeros(n_simulation)\n",
    "std_arr = np.zeros(n_simulation)\n",
    "sharpe_arr = np.zeros(n_simulation)"
   ]
  },
  {
   "cell_type": "code",
   "execution_count": 36,
   "metadata": {},
   "outputs": [],
   "source": [
    "for indx in range(n_simulation):\n",
    "    weights_temp = np.random.rand(4)\n",
    "    weights_temp = weights_temp / np.sum(weights_temp)\n",
    "    all_weights[indx, ] = weights_temp\n",
    "    \n",
    "    port_daily_returns_temp = np.sum(stocks_daily_returns*weights_temp, axis=1)\n",
    "    port_arith_return_temp = np.mean(port_daily_returns_temp)\n",
    "    return_arr[indx] = port_arith_return_temp\n",
    "    \n",
    "    port_var_temp = np.dot(weights_temp.T, np.dot(cov_mat, weights_temp))\n",
    "    port_std_temp = np.sqrt(port_var_temp)\n",
    "    std_arr[indx] = port_std_temp\n",
    "    \n",
    "    port_sharpe_temp = port_arith_return_temp/port_std_temp\n",
    "    sharpe_arr[indx] = port_sharpe_temp"
   ]
  },
  {
   "cell_type": "code",
   "execution_count": 37,
   "metadata": {},
   "outputs": [
    {
     "data": {
      "text/plain": [
       "array([0.30320951, 0.06768139, 0.39903611, 0.23007299])"
      ]
     },
     "execution_count": 37,
     "metadata": {},
     "output_type": "execute_result"
    }
   ],
   "source": [
    "all_weights[np.argmax(sharpe_arr), ]"
   ]
  },
  {
   "cell_type": "code",
   "execution_count": 38,
   "metadata": {},
   "outputs": [
    {
     "data": {
      "text/plain": [
       "0.07680097048909192"
      ]
     },
     "execution_count": 38,
     "metadata": {},
     "output_type": "execute_result"
    }
   ],
   "source": [
    "np.max(sharpe_arr)"
   ]
  },
  {
   "cell_type": "code",
   "execution_count": 39,
   "metadata": {},
   "outputs": [
    {
     "data": {
      "text/plain": [
       "(0.001187055305133124, 0.015456253971448475)"
      ]
     },
     "execution_count": 39,
     "metadata": {},
     "output_type": "execute_result"
    }
   ],
   "source": [
    "max_sr_return = return_arr[np.argmax(sharpe_arr)]\n",
    "max_sr_std = std_arr[np.argmax(sharpe_arr)]\n",
    "max_sr_return, max_sr_std"
   ]
  },
  {
   "cell_type": "markdown",
   "metadata": {},
   "source": [
    "- Plot the simulated portfolios"
   ]
  },
  {
   "cell_type": "code",
   "execution_count": 49,
   "metadata": {},
   "outputs": [
    {
     "data": {
      "text/plain": [
       "[<matplotlib.lines.Line2D at 0x7fbe1c7180d0>]"
      ]
     },
     "execution_count": 49,
     "metadata": {},
     "output_type": "execute_result"
    },
    {
     "data": {
      "image/png": "[encoded data removed]",
      "text/plain": [
       "<Figure size 864x576 with 2 Axes>"
      ]
     },
     "metadata": {
      "needs_background": "light"
     },
     "output_type": "display_data"
    }
   ],
   "source": [
    "plt.figure(figsize=(12,8))\n",
    "plt.scatter(std_arr, return_arr, c=sharpe_arr, cmap='plasma')\n",
    "plt.ylim([0, 0.003])\n",
    "plt.colorbar(label='Shape Ratio')\n",
    "plt.xlabel(\"$\\sigma$\")\n",
    "plt.ylabel(\"Portfolio Arithmetic Mean Return\")\n",
    "\n",
    "plt.plot(max_sr_std, max_sr_return, 'r*')"
   ]
  },
  {
   "cell_type": "markdown",
   "metadata": {},
   "source": [
    "### Mathematical Optimization"
   ]
  },
  {
   "cell_type": "code",
   "execution_count": 50,
   "metadata": {},
   "outputs": [],
   "source": [
    "from scipy.optimize import minimize"
   ]
  },
  {
   "cell_type": "code",
   "execution_count": 51,
   "metadata": {},
   "outputs": [],
   "source": [
    "def get_return_std_sharpe(weights_temp):\n",
    "    port_daily_returns_temp = np.sum(stocks_daily_returns*weights_temp, axis=1)\n",
    "    port_arith_return_temp = np.mean(port_daily_returns_temp)\n",
    "    \n",
    "    port_var_temp = np.dot(weights_temp.T, np.dot(cov_mat, weights_temp))\n",
    "    port_std_temp = np.sqrt(port_var_temp)\n",
    "    \n",
    "    port_sharpe_temp = port_arith_return_temp/port_std_temp\n",
    "\n",
    "    return np.array([port_arith_return_temp, port_std_temp, port_sharpe_temp])"
   ]
  },
  {
   "cell_type": "markdown",
   "metadata": {},
   "source": [
    "- Since we want to maximize the Sharpe Ratio, we need to minimize negative Sharpe Ratio."
   ]
  },
  {
   "cell_type": "code",
   "execution_count": 52,
   "metadata": {},
   "outputs": [],
   "source": [
    "def neg_sharpe(weights_temp):\n",
    "    return get_return_std_sharpe(weights_temp)[2]*(-1)"
   ]
  },
  {
   "cell_type": "markdown",
   "metadata": {},
   "source": [
    "- Constraint for the optimization problem\n",
    "    - By convention of minimize function, it should be a function that returns zero for conditions."
   ]
  },
  {
   "cell_type": "code",
   "execution_count": 53,
   "metadata": {},
   "outputs": [],
   "source": [
    "def check_sum(weights_temp):\n",
    "    return np.sum(weights_temp)-1"
   ]
  },
  {
   "cell_type": "code",
   "execution_count": 54,
   "metadata": {},
   "outputs": [],
   "source": [
    "cons = ({'type':'eq', 'fun':check_sum})"
   ]
  },
  {
   "cell_type": "markdown",
   "metadata": {},
   "source": [
    "- Bounds for outputs"
   ]
  },
  {
   "cell_type": "code",
   "execution_count": 55,
   "metadata": {},
   "outputs": [],
   "source": [
    "bounds = ((0,1), (0,1), (0,1), (0,1))"
   ]
  },
  {
   "cell_type": "markdown",
   "metadata": {},
   "source": [
    "- Initial guess"
   ]
  },
  {
   "cell_type": "code",
   "execution_count": 56,
   "metadata": {},
   "outputs": [],
   "source": [
    "init_guess = (0.25, 0.25, 0.25, 0.25)"
   ]
  },
  {
   "cell_type": "markdown",
   "metadata": {},
   "source": [
    "- Now, use the `minimize()` function to find the optimal weights.\n",
    "    - We use the Sequential Least SQuares Programming (SLSQP) method."
   ]
  },
  {
   "cell_type": "code",
   "execution_count": 57,
   "metadata": {},
   "outputs": [],
   "source": [
    "optimize_results = minimize(fun=neg_sharpe, x0=init_guess, method='SLSQP', bounds=bounds, constraints=cons)"
   ]
  },
  {
   "cell_type": "code",
   "execution_count": 58,
   "metadata": {},
   "outputs": [
    {
     "data": {
      "text/plain": [
       "     fun: -0.07681150759065393\n",
       "     jac: array([-1.58268958e-05, -6.85276464e-05, -8.68774951e-05,  1.95012428e-04])\n",
       " message: 'Optimization terminated successfully.'\n",
       "    nfev: 72\n",
       "     nit: 12\n",
       "    njev: 12\n",
       "  status: 0\n",
       " success: True\n",
       "       x: array([0.28771642, 0.07957948, 0.40220057, 0.23050353])"
      ]
     },
     "execution_count": 58,
     "metadata": {},
     "output_type": "execute_result"
    }
   ],
   "source": [
    "optimize_results"
   ]
  },
  {
   "cell_type": "code",
   "execution_count": 59,
   "metadata": {},
   "outputs": [
    {
     "data": {
      "text/plain": [
       "array([0.00118813, 0.01546813, 0.07681151])"
      ]
     },
     "execution_count": 59,
     "metadata": {},
     "output_type": "execute_result"
    }
   ],
   "source": [
    "get_return_std_sharpe(optimize_results.x)"
   ]
  },
  {
   "cell_type": "markdown",
   "metadata": {},
   "source": [
    "- Let's plot this optimal allocation together with other simulated portfolios."
   ]
  },
  {
   "cell_type": "code",
   "execution_count": 68,
   "metadata": {},
   "outputs": [
    {
     "data": {
      "text/plain": [
       "[<matplotlib.lines.Line2D at 0x7fbdfe9a7fd0>]"
      ]
     },
     "execution_count": 68,
     "metadata": {},
     "output_type": "execute_result"
    },
    {
     "data": {
      "image/png": "[encoded data removed]",
      "text/plain": [
       "<Figure size 864x576 with 2 Axes>"
      ]
     },
     "metadata": {
      "needs_background": "light"
     },
     "output_type": "display_data"
    }
   ],
   "source": [
    "plt.figure(figsize=(12,8))\n",
    "plt.scatter(std_arr, return_arr, c=sharpe_arr, cmap='plasma')\n",
    "plt.ylim([0, 0.002])\n",
    "plt.colorbar(label='Shape Ratio')\n",
    "plt.xlabel(\"$\\sigma$\")\n",
    "plt.ylabel(\"Portfolio Arithmetic Mean Return\")\n",
    "\n",
    "plt.plot(max_sr_std, max_sr_return, 'r*')\n",
    "\n",
    "plt.plot(get_return_std_sharpe(optimize_results.x)[1],\n",
    "         get_return_std_sharpe(optimize_results.x)[0], 'g*')"
   ]
  },
  {
   "cell_type": "markdown",
   "metadata": {},
   "source": [
    "### Efficient Frontier\n",
    "- Here, we trace out the Efficient Frontier by optimizing for the smallest volatility, given each level of return."
   ]
  },
  {
   "cell_type": "markdown",
   "metadata": {},
   "source": [
    "- First, we need to define the 'Target', i.e. the item that we want to minimize.\n",
    "    - In the section above, it's negative Sharpe Ratio.\n",
    "    - Here, it's standard deviation."
   ]
  },
  {
   "cell_type": "code",
   "execution_count": 69,
   "metadata": {},
   "outputs": [],
   "source": [
    "def get_std(weights_temp):\n",
    "    return get_return_std_sharpe(weights_temp)[1]"
   ]
  },
  {
   "cell_type": "markdown",
   "metadata": {},
   "source": [
    "- Now, for each given return level, we optimize for the smallest standard deviation.\n",
    "    - Note, here we need an additional constraint that requires the return equal to the return given.\n",
    "    - Also note that we want to record the optimized target, which is returned in `result['fun']`."
   ]
  },
  {
   "cell_type": "code",
   "execution_count": 70,
   "metadata": {},
   "outputs": [],
   "source": [
    "all_return_levels = np.linspace(np.min(return_arr), np.max(return_arr), 100)"
   ]
  },
  {
   "cell_type": "code",
   "execution_count": 73,
   "metadata": {},
   "outputs": [],
   "source": [
    "efficient_stds = []\n",
    "\n",
    "for return_level in all_return_levels:\n",
    "    cons = ({'type':'eq', 'fun': check_sum},\n",
    "           {'type':'eq', 'fun': lambda w: get_return_std_sharpe(w)[0] - return_level})\n",
    "    \n",
    "    result = minimize(get_std, init_guess, method='SLSQP', bounds=bounds, constraints=cons)\n",
    "    efficient_stds.append(result['fun'])"
   ]
  },
  {
   "cell_type": "markdown",
   "metadata": {},
   "source": [
    "- Plot the Efficient Frontier"
   ]
  },
  {
   "cell_type": "code",
   "execution_count": 75,
   "metadata": {},
   "outputs": [
    {
     "data": {
      "text/plain": [
       "[<matplotlib.lines.Line2D at 0x7fbe0091bd10>]"
      ]
     },
     "execution_count": 75,
     "metadata": {},
     "output_type": "execute_result"
    },
    {
     "data": {
      "image/png": "[encoded data removed]",
      "text/plain": [
       "<Figure size 864x576 with 2 Axes>"
      ]
     },
     "metadata": {
      "needs_background": "light"
     },
     "output_type": "display_data"
    }
   ],
   "source": [
    "plt.figure(figsize=(12,8))\n",
    "plt.scatter(std_arr, return_arr, c=sharpe_arr, cmap='plasma')\n",
    "plt.ylim([0, 0.002])\n",
    "plt.colorbar(label='Shape Ratio')\n",
    "plt.xlabel(\"$\\sigma$\")\n",
    "plt.ylabel(\"Portfolio Arithmetic Mean Return\")\n",
    "\n",
    "plt.plot(efficient_stds, all_return_levels, 'g--')"
   ]
  },
  {
   "cell_type": "markdown",
   "metadata": {},
   "source": [
    "## Capital Asset Pricing Model (CAPM)"
   ]
  },
  {
   "cell_type": "code",
   "execution_count": 1,
   "metadata": {},
   "outputs": [],
   "source": [
    "import pandas as pd\n",
    "import numpy as np\n",
    "import matplotlib.pyplot as plt\n",
    "%matplotlib inline"
   ]
  },
  {
   "cell_type": "code",
   "execution_count": 2,
   "metadata": {},
   "outputs": [
    {
     "name": "stderr",
     "output_type": "stream",
     "text": [
      "/Users/yuangchen/opt/anaconda3/lib/python3.7/site-packages/pandas_datareader/compat/__init__.py:7: FutureWarning: pandas.util.testing is deprecated. Use the functions in the public API at pandas.testing instead.\n",
      "  from pandas.util.testing import assert_frame_equal\n"
     ]
    }
   ],
   "source": [
    "import pandas_datareader as web"
   ]
  },
  {
   "cell_type": "code",
   "execution_count": 4,
   "metadata": {},
   "outputs": [],
   "source": [
    "spy = web.DataReader('SPY', 'yahoo', \"2018-01-01\", \"2019-01-01\")\n",
    "aapl = web.DataReader('AAPL', 'yahoo', \"2018-01-01\", \"2019-01-01\")"
   ]
  },
  {
   "cell_type": "code",
   "execution_count": 5,
   "metadata": {},
   "outputs": [
    {
     "data": {
      "text/html": [
       "<div>\n",
       "<style scoped>\n",
       "    .dataframe tbody tr th:only-of-type {\n",
       "        vertical-align: middle;\n",
       "    }\n",
       "\n",
       "    .dataframe tbody tr th {\n",
       "        vertical-align: top;\n",
       "    }\n",
       "\n",
       "    .dataframe thead th {\n",
       "        text-align: right;\n",
       "    }\n",
       "</style>\n",
       "<table border=\"1\" class=\"dataframe\">\n",
       "  <thead>\n",
       "    <tr style=\"text-align: right;\">\n",
       "      <th></th>\n",
       "      <th>High</th>\n",
       "      <th>Low</th>\n",
       "      <th>Open</th>\n",
       "      <th>Close</th>\n",
       "      <th>Volume</th>\n",
       "      <th>Adj Close</th>\n",
       "    </tr>\n",
       "    <tr>\n",
       "      <th>Date</th>\n",
       "      <th></th>\n",
       "      <th></th>\n",
       "      <th></th>\n",
       "      <th></th>\n",
       "      <th></th>\n",
       "      <th></th>\n",
       "    </tr>\n",
       "  </thead>\n",
       "  <tbody>\n",
       "    <tr>\n",
       "      <th>2018-01-02</th>\n",
       "      <td>268.809998</td>\n",
       "      <td>267.399994</td>\n",
       "      <td>267.839996</td>\n",
       "      <td>268.769989</td>\n",
       "      <td>86655700.0</td>\n",
       "      <td>257.345001</td>\n",
       "    </tr>\n",
       "    <tr>\n",
       "      <th>2018-01-03</th>\n",
       "      <td>270.640015</td>\n",
       "      <td>268.959991</td>\n",
       "      <td>268.959991</td>\n",
       "      <td>270.470001</td>\n",
       "      <td>90070400.0</td>\n",
       "      <td>258.972717</td>\n",
       "    </tr>\n",
       "    <tr>\n",
       "      <th>2018-01-04</th>\n",
       "      <td>272.160004</td>\n",
       "      <td>270.540009</td>\n",
       "      <td>271.200012</td>\n",
       "      <td>271.609985</td>\n",
       "      <td>80636400.0</td>\n",
       "      <td>260.064240</td>\n",
       "    </tr>\n",
       "    <tr>\n",
       "      <th>2018-01-05</th>\n",
       "      <td>273.559998</td>\n",
       "      <td>271.950012</td>\n",
       "      <td>272.510010</td>\n",
       "      <td>273.420013</td>\n",
       "      <td>83524000.0</td>\n",
       "      <td>261.797302</td>\n",
       "    </tr>\n",
       "    <tr>\n",
       "      <th>2018-01-08</th>\n",
       "      <td>274.100006</td>\n",
       "      <td>272.980011</td>\n",
       "      <td>273.309998</td>\n",
       "      <td>273.920013</td>\n",
       "      <td>57319200.0</td>\n",
       "      <td>262.276093</td>\n",
       "    </tr>\n",
       "  </tbody>\n",
       "</table>\n",
       "</div>"
      ],
      "text/plain": [
       "                  High         Low        Open       Close      Volume  \\\n",
       "Date                                                                     \n",
       "2018-01-02  268.809998  267.399994  267.839996  268.769989  86655700.0   \n",
       "2018-01-03  270.640015  268.959991  268.959991  270.470001  90070400.0   \n",
       "2018-01-04  272.160004  270.540009  271.200012  271.609985  80636400.0   \n",
       "2018-01-05  273.559998  271.950012  272.510010  273.420013  83524000.0   \n",
       "2018-01-08  274.100006  272.980011  273.309998  273.920013  57319200.0   \n",
       "\n",
       "             Adj Close  \n",
       "Date                    \n",
       "2018-01-02  257.345001  \n",
       "2018-01-03  258.972717  \n",
       "2018-01-04  260.064240  \n",
       "2018-01-05  261.797302  \n",
       "2018-01-08  262.276093  "
      ]
     },
     "execution_count": 5,
     "metadata": {},
     "output_type": "execute_result"
    }
   ],
   "source": [
    "spy.head()"
   ]
  },
  {
   "cell_type": "code",
   "execution_count": 6,
   "metadata": {},
   "outputs": [
    {
     "data": {
      "text/html": [
       "<div>\n",
       "<style scoped>\n",
       "    .dataframe tbody tr th:only-of-type {\n",
       "        vertical-align: middle;\n",
       "    }\n",
       "\n",
       "    .dataframe tbody tr th {\n",
       "        vertical-align: top;\n",
       "    }\n",
       "\n",
       "    .dataframe thead th {\n",
       "        text-align: right;\n",
       "    }\n",
       "</style>\n",
       "<table border=\"1\" class=\"dataframe\">\n",
       "  <thead>\n",
       "    <tr style=\"text-align: right;\">\n",
       "      <th></th>\n",
       "      <th>High</th>\n",
       "      <th>Low</th>\n",
       "      <th>Open</th>\n",
       "      <th>Close</th>\n",
       "      <th>Volume</th>\n",
       "      <th>Adj Close</th>\n",
       "    </tr>\n",
       "    <tr>\n",
       "      <th>Date</th>\n",
       "      <th></th>\n",
       "      <th></th>\n",
       "      <th></th>\n",
       "      <th></th>\n",
       "      <th></th>\n",
       "      <th></th>\n",
       "    </tr>\n",
       "  </thead>\n",
       "  <tbody>\n",
       "    <tr>\n",
       "      <th>2018-01-02</th>\n",
       "      <td>172.300003</td>\n",
       "      <td>169.259995</td>\n",
       "      <td>170.160004</td>\n",
       "      <td>172.259995</td>\n",
       "      <td>25555900.0</td>\n",
       "      <td>166.353714</td>\n",
       "    </tr>\n",
       "    <tr>\n",
       "      <th>2018-01-03</th>\n",
       "      <td>174.550003</td>\n",
       "      <td>171.960007</td>\n",
       "      <td>172.529999</td>\n",
       "      <td>172.229996</td>\n",
       "      <td>29517900.0</td>\n",
       "      <td>166.324722</td>\n",
       "    </tr>\n",
       "    <tr>\n",
       "      <th>2018-01-04</th>\n",
       "      <td>173.470001</td>\n",
       "      <td>172.080002</td>\n",
       "      <td>172.539993</td>\n",
       "      <td>173.029999</td>\n",
       "      <td>22434600.0</td>\n",
       "      <td>167.097290</td>\n",
       "    </tr>\n",
       "    <tr>\n",
       "      <th>2018-01-05</th>\n",
       "      <td>175.369995</td>\n",
       "      <td>173.050003</td>\n",
       "      <td>173.440002</td>\n",
       "      <td>175.000000</td>\n",
       "      <td>23660000.0</td>\n",
       "      <td>168.999741</td>\n",
       "    </tr>\n",
       "    <tr>\n",
       "      <th>2018-01-08</th>\n",
       "      <td>175.610001</td>\n",
       "      <td>173.929993</td>\n",
       "      <td>174.350006</td>\n",
       "      <td>174.350006</td>\n",
       "      <td>20567800.0</td>\n",
       "      <td>168.372040</td>\n",
       "    </tr>\n",
       "  </tbody>\n",
       "</table>\n",
       "</div>"
      ],
      "text/plain": [
       "                  High         Low        Open       Close      Volume  \\\n",
       "Date                                                                     \n",
       "2018-01-02  172.300003  169.259995  170.160004  172.259995  25555900.0   \n",
       "2018-01-03  174.550003  171.960007  172.529999  172.229996  29517900.0   \n",
       "2018-01-04  173.470001  172.080002  172.539993  173.029999  22434600.0   \n",
       "2018-01-05  175.369995  173.050003  173.440002  175.000000  23660000.0   \n",
       "2018-01-08  175.610001  173.929993  174.350006  174.350006  20567800.0   \n",
       "\n",
       "             Adj Close  \n",
       "Date                    \n",
       "2018-01-02  166.353714  \n",
       "2018-01-03  166.324722  \n",
       "2018-01-04  167.097290  \n",
       "2018-01-05  168.999741  \n",
       "2018-01-08  168.372040  "
      ]
     },
     "execution_count": 6,
     "metadata": {},
     "output_type": "execute_result"
    }
   ],
   "source": [
    "aapl.head()"
   ]
  },
  {
   "cell_type": "code",
   "execution_count": 7,
   "metadata": {},
   "outputs": [
    {
     "data": {
      "text/plain": [
       "<matplotlib.legend.Legend at 0x7fc60d9dad90>"
      ]
     },
     "execution_count": 7,
     "metadata": {},
     "output_type": "execute_result"
    },
    {
     "data": {
      "image/png": "[encoded data removed]",
      "text/plain": [
       "<Figure size 720x576 with 1 Axes>"
      ]
     },
     "metadata": {
      "needs_background": "light"
     },
     "output_type": "display_data"
    }
   ],
   "source": [
    "aapl['Close'].plot(label='AAPL', figsize=(10, 8))\n",
    "spy['Close'].plot(label='SPY')\n",
    "plt.legend()"
   ]
  },
  {
   "cell_type": "markdown",
   "metadata": {},
   "source": [
    "### Compare Cumulative Return"
   ]
  },
  {
   "cell_type": "code",
   "execution_count": 8,
   "metadata": {},
   "outputs": [],
   "source": [
    "spy['Cumulative Return'] = spy['Close']/spy['Close'].iloc[0]\n",
    "aapl['Cumulative Return'] = aapl['Close']/aapl['Close'].iloc[0]"
   ]
  },
  {
   "cell_type": "code",
   "execution_count": 9,
   "metadata": {},
   "outputs": [
    {
     "data": {
      "text/plain": [
       "<matplotlib.legend.Legend at 0x7fc60e970b50>"
      ]
     },
     "execution_count": 9,
     "metadata": {},
     "output_type": "execute_result"
    },
    {
     "data": {
      "image/png": "[encoded data removed]",
      "text/plain": [
       "<Figure size 720x576 with 1 Axes>"
      ]
     },
     "metadata": {
      "needs_background": "light"
     },
     "output_type": "display_data"
    }
   ],
   "source": [
    "aapl['Cumulative Return'].plot(label='AAPL', figsize=(10, 8))\n",
    "spy['Cumulative Return'].plot(label='SPY')\n",
    "plt.legend()"
   ]
  },
  {
   "cell_type": "markdown",
   "metadata": {},
   "source": [
    "### Compare Daily Returns"
   ]
  },
  {
   "cell_type": "code",
   "execution_count": 10,
   "metadata": {},
   "outputs": [],
   "source": [
    "spy['Daily Return'] = spy['Close'].pct_change(1)\n",
    "aapl['Daily Return'] = aapl['Close'].pct_change(1)"
   ]
  },
  {
   "cell_type": "code",
   "execution_count": 11,
   "metadata": {},
   "outputs": [
    {
     "data": {
      "text/plain": [
       "<matplotlib.collections.PathCollection at 0x7fc60c9ee910>"
      ]
     },
     "execution_count": 11,
     "metadata": {},
     "output_type": "execute_result"
    },
    {
     "data": {
      "image/png": "[encoded data removed]",
      "text/plain": [
       "<Figure size 432x288 with 1 Axes>"
      ]
     },
     "metadata": {
      "needs_background": "light"
     },
     "output_type": "display_data"
    }
   ],
   "source": [
    "plt.scatter(spy['Daily Return'], aapl['Daily Return'], alpha=0.3)"
   ]
  },
  {
   "cell_type": "code",
   "execution_count": 12,
   "metadata": {},
   "outputs": [
    {
     "data": {
      "text/plain": [
       "<matplotlib.axes._subplots.AxesSubplot at 0x7fc60e772910>"
      ]
     },
     "execution_count": 12,
     "metadata": {},
     "output_type": "execute_result"
    },
    {
     "data": {
      "image/png": "[encoded data removed]",
      "text/plain": [
       "<Figure size 432x288 with 1 Axes>"
      ]
     },
     "metadata": {
      "needs_background": "light"
     },
     "output_type": "display_data"
    }
   ],
   "source": [
    "spy['Daily Return'].hist(bins=100)"
   ]
  },
  {
   "cell_type": "code",
   "execution_count": 13,
   "metadata": {},
   "outputs": [
    {
     "data": {
      "text/plain": [
       "<matplotlib.axes._subplots.AxesSubplot at 0x7fc60e7d03d0>"
      ]
     },
     "execution_count": 13,
     "metadata": {},
     "output_type": "execute_result"
    },
    {
     "data": {
      "image/png": "[encoded data removed]",
      "text/plain": [
       "<Figure size 432x288 with 1 Axes>"
      ]
     },
     "metadata": {
      "needs_background": "light"
     },
     "output_type": "display_data"
    }
   ],
   "source": [
    "aapl['Daily Return'].hist(bins=100)"
   ]
  },
  {
   "cell_type": "markdown",
   "metadata": {},
   "source": [
    "### The CAPM\n",
    "- $E(R_i) = R_f + \\beta_i \\times (E(R_m) - R_f)$\n",
    "    - Here, we use SPY to represent the market."
   ]
  },
  {
   "cell_type": "code",
   "execution_count": 14,
   "metadata": {},
   "outputs": [],
   "source": [
    "from scipy import stats"
   ]
  },
  {
   "cell_type": "code",
   "execution_count": 18,
   "metadata": {},
   "outputs": [],
   "source": [
    "beta,alpha,r_value,p_value,std_err = stats.linregress(x=spy['Daily Return'].iloc[1:], \n",
    "                                                      y=aapl['Daily Return'].iloc[1:])"
   ]
  },
  {
   "cell_type": "code",
   "execution_count": 19,
   "metadata": {},
   "outputs": [
    {
     "data": {
      "text/plain": [
       "1.2534309538828474"
      ]
     },
     "execution_count": 19,
     "metadata": {},
     "output_type": "execute_result"
    }
   ],
   "source": [
    "beta"
   ]
  },
  {
   "cell_type": "code",
   "execution_count": 20,
   "metadata": {},
   "outputs": [
    {
     "data": {
      "text/plain": [
       "0.000102751261040348"
      ]
     },
     "execution_count": 20,
     "metadata": {},
     "output_type": "execute_result"
    }
   ],
   "source": [
    "alpha"
   ]
  },
  {
   "cell_type": "code",
   "execution_count": 21,
   "metadata": {},
   "outputs": [
    {
     "data": {
      "text/plain": [
       "0.7478342928339387"
      ]
     },
     "execution_count": 21,
     "metadata": {},
     "output_type": "execute_result"
    }
   ],
   "source": [
    "r_value"
   ]
  },
  {
   "cell_type": "markdown",
   "metadata": {},
   "source": [
    "### What if a stock if completely related to the SPY index?"
   ]
  },
  {
   "cell_type": "code",
   "execution_count": 22,
   "metadata": {},
   "outputs": [],
   "source": [
    "noise = np.random.normal(0, 0.001, size=len(spy['Daily Return'].iloc[1:]))"
   ]
  },
  {
   "cell_type": "code",
   "execution_count": 23,
   "metadata": {},
   "outputs": [],
   "source": [
    "my_stock_return = spy['Daily Return'].iloc[1:] + noise"
   ]
  },
  {
   "cell_type": "code",
   "execution_count": 24,
   "metadata": {},
   "outputs": [],
   "source": [
    "beta,alpha,r_value,p_value,std_err = stats.linregress(my_stock_return, \n",
    "                                                      y=aapl['Daily Return'].iloc[1:])"
   ]
  },
  {
   "cell_type": "code",
   "execution_count": 25,
   "metadata": {},
   "outputs": [
    {
     "data": {
      "text/plain": [
       "1.2388107647883577"
      ]
     },
     "execution_count": 25,
     "metadata": {},
     "output_type": "execute_result"
    }
   ],
   "source": [
    "beta"
   ]
  },
  {
   "cell_type": "code",
   "execution_count": 26,
   "metadata": {},
   "outputs": [
    {
     "data": {
      "text/plain": [
       "4.175271367229123e-05"
      ]
     },
     "execution_count": 26,
     "metadata": {},
     "output_type": "execute_result"
    }
   ],
   "source": [
    "alpha"
   ]
  }
 ],
 "metadata": {
  "kernelspec": {
   "display_name": "Python 3",
   "language": "python",
   "name": "python3"
  },
  "language_info": {
   "codemirror_mode": {
    "name": "ipython",
    "version": 3
   },
   "file_extension": ".py",
   "mimetype": "text/x-python",
   "name": "python",
   "nbconvert_exporter": "python",
   "pygments_lexer": "ipython3",
   "version": "3.7.6"
  }
 },
 "nbformat": 4,
 "nbformat_minor": 4
}
